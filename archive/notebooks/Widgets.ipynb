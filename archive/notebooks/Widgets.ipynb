{
 "cells": [
  {
   "cell_type": "code",
   "execution_count": null,
   "metadata": {},
   "outputs": [],
   "source": [
    "import vaex\n",
    "import vaex.jupyter\n",
    "import numpy as np\n",
    "import pylab as plt\n",
    "import matplotlib.pyplot as plt\n"
   ]
  },
  {
   "cell_type": "code",
   "execution_count": null,
   "metadata": {},
   "outputs": [],
   "source": [
    "df = vaex.example()"
   ]
  },
  {
   "cell_type": "code",
   "execution_count": null,
   "metadata": {},
   "outputs": [],
   "source": [
    "selection = df.select(True)\n",
    "@vaex.jupyter.interactive_selection(df)\n",
    "def plot(*args, **kwargs):\n",
    "    df.plot(df.x, df.y, what=np.log(vaex.stat.count()+1), selection=True)\n",
    "    plt.show()"
   ]
  },
  {
   "cell_type": "code",
   "execution_count": null,
   "metadata": {},
   "outputs": [],
   "source": [
    "df.select(df.x > 0)"
   ]
  },
  {
   "cell_type": "code",
   "execution_count": null,
   "metadata": {},
   "outputs": [],
   "source": [
    "def display_radio():\n",
    "    import ipywidgets as widgets\n",
    "    radio = widgets.RadioButtons(\n",
    "        options=['x > 2', 'y < 2', 'x > 2 & y < 2'],\n",
    "        disabled=False\n",
    "    )\n",
    "    def handle(change):\n",
    "        if change['name'] == 'index':\n",
    "            if change.new==0:\n",
    "                df.select(df.x > 2)\n",
    "            elif change.new==1:\n",
    "                df.select(df.y < 2)\n",
    "            elif change.new==2:\n",
    "                df.select((df.x > 2) & (df.y < 2))\n",
    "\n",
    "    radio.observe(handle)\n",
    "    display(radio)"
   ]
  },
  {
   "cell_type": "code",
   "execution_count": null,
   "metadata": {},
   "outputs": [],
   "source": [
    "display_radio()"
   ]
  },
  {
   "cell_type": "code",
   "execution_count": null,
   "metadata": {},
   "outputs": [],
   "source": [
    "#df.plot_widget(df.x, df.y, [])\n",
    "#df.plot(df.x, df.y, f='log1p',figsize=(40,30))\n",
    "#df.plot(df.x, df.y)"
   ]
  },
  {
   "cell_type": "code",
   "execution_count": null,
   "metadata": {},
   "outputs": [],
   "source": [
    "### Imports for the navigation\n",
    "from ipywidgets import Button, HBox, VBox\n",
    "import ipywidgets as widgets"
   ]
  },
  {
   "cell_type": "code",
   "execution_count": null,
   "metadata": {},
   "outputs": [],
   "source": [
    "### Added very simple navigation\n",
    "def zoom_fun_gen(t):\n",
    "    x, y = t\n",
    "    def zoom_fun(b):\n",
    "        global xlim_l\n",
    "        global xlim_r\n",
    "        global ylim_d\n",
    "        global ylim_u\n",
    "        x_d = xlim_r - xlim_l\n",
    "        y_d = ylim_u - ylim_d\n",
    "        x_diff = x_d/3\n",
    "        y_diff = y_d/3\n",
    "        xlim_l+=x*x_diff # 0, 1, 2\n",
    "        xlim_r-=(2-x)*x_diff # 2, 1, 0\n",
    "        ylim_d+=y*y_diff # 0, 1, 2\n",
    "        ylim_u-=(2-y)*y_diff # 2, 1, 0\n",
    "        df.select(df.x > 0)\n",
    "    return zoom_fun"
   ]
  },
  {
   "cell_type": "code",
   "execution_count": null,
   "metadata": {},
   "outputs": [],
   "source": [
    "xlim_l = -28\n",
    "xlim_r = 28\n",
    "ylim_d = -28\n",
    "ylim_u = 28\n",
    "dirs = ['zoom top left', 'zoom left', 'zoom bottom left', \n",
    "         'zoom top middle', 'zoom middle', 'zoom bottom middle',\n",
    "         'zoom top right',  'zoom right',  'zoom bottom right']\n",
    "dirs_n = [(0, 2), (0, 1), (0, 0), (1, 2), (1, 1), (1, 0), (2, 2), (2, 1), (2, 0)]\n",
    "buttons = [Button(description=d) for d in dirs]\n",
    "for i, b in enumerate(buttons):\n",
    "    b.on_click(zoom_fun_gen(dirs_n[i]))"
   ]
  },
  {
   "cell_type": "code",
   "execution_count": null,
   "metadata": {},
   "outputs": [],
   "source": [
    "def reset(change):\n",
    "    global xlim_l\n",
    "    global xlim_r\n",
    "    global ylim_d\n",
    "    global ylim_u\n",
    "    xlim_l=-28\n",
    "    xlim_r=28\n",
    "    ylim_d = -28\n",
    "    ylim_u = 28\n",
    "    df.select(df.x > 0)\n",
    "resetb = Button(description=\"reset\")\n",
    "resetb.on_click(reset)\n",
    "percent_shift = .2\n",
    "def left_move(change):\n",
    "    global xlim_l\n",
    "    global xlim_r\n",
    "    x_d = xlim_r - xlim_l\n",
    "    xlim_l-=percent_shift*x_d\n",
    "    xlim_r-=percent_shift*x_d\n",
    "    df.select(df.x > 0)\n",
    "    \n",
    "def right_move(change):\n",
    "    global xlim_l\n",
    "    global xlim_r\n",
    "    x_d = xlim_r - xlim_l\n",
    "    xlim_l+=percent_shift*x_d\n",
    "    xlim_r+=percent_shift*x_d\n",
    "    df.select(df.x > 0)\n",
    "    \n",
    "def up_move(change):\n",
    "    global ylim_d\n",
    "    global ylim_u\n",
    "    y_d = ylim_u - ylim_d\n",
    "    ylim_d+=percent_shift*y_d\n",
    "    ylim_u+=percent_shift*y_d\n",
    "    df.select(df.x > 0)\n",
    "    \n",
    "def down_move(change):\n",
    "    global ylim_d\n",
    "    global ylim_u\n",
    "    y_d = ylim_u - ylim_d\n",
    "    ylim_d-=percent_shift*y_d\n",
    "    ylim_u-=percent_shift*y_d\n",
    "    df.select(df.x > 0)\n",
    "\n",
    "rightb = Button(description=\"right\")\n",
    "rightb.on_click(right_move)\n",
    "leftb = Button(description=\"left\")\n",
    "leftb.on_click(left_move)\n",
    "upb = Button(description=\"up\")\n",
    "upb.on_click(up_move)\n",
    "downb = Button(description=\"down\")\n",
    "downb.on_click(down_move)"
   ]
  },
  {
   "cell_type": "code",
   "execution_count": null,
   "metadata": {},
   "outputs": [],
   "source": [
    "left_col   = VBox([button for button in buttons[:3]])\n",
    "middle_col = VBox([button for button in buttons[3:6]])\n",
    "right_col  = VBox([button for button in buttons[6:]])\n",
    "\n",
    "display(HBox([left_col, middle_col, right_col]))\n",
    "display(resetb)\n",
    "display(HBox([leftb, rightb, VBox([upb, downb])]))"
   ]
  },
  {
   "cell_type": "code",
   "execution_count": null,
   "metadata": {},
   "outputs": [],
   "source": [
    "selection = df.select(True)\n",
    "@vaex.jupyter.interactive_selection(df)\n",
    "def plot(*args, **kwargs):\n",
    "    df.plot(df.x, df.y, what=np.log(vaex.stat.count()+1), selection=False)\n",
    "    plt.xlim(xlim_l, xlim_r)\n",
    "    plt.ylim(ylim_d, ylim_u)\n",
    "    plt.show()"
   ]
  },
  {
   "cell_type": "code",
   "execution_count": null,
   "metadata": {},
   "outputs": [],
   "source": [
    "vdf = vaex.open('trace.hdf5')"
   ]
  },
  {
   "cell_type": "code",
   "execution_count": null,
   "metadata": {},
   "outputs": [],
   "source": [
    "vdf"
   ]
  },
  {
   "cell_type": "code",
   "execution_count": null,
   "metadata": {},
   "outputs": [],
   "source": [
    "vdf['index'] = np.arange(0, vdf.Address.count())\n"
   ]
  },
  {
   "cell_type": "code",
   "execution_count": null,
   "metadata": {},
   "outputs": [],
   "source": [
    "vdf"
   ]
  },
  {
   "cell_type": "code",
   "execution_count": null,
   "metadata": {},
   "outputs": [],
   "source": [
    "st = 501000\n",
    "vdf[st:st+10]"
   ]
  },
  {
   "cell_type": "code",
   "execution_count": null,
   "metadata": {},
   "outputs": [],
   "source": [
    "vdf.plot_widget(vdf.index, vdf.Address, what=\"max(Access)\", colormap=plt.get_cmap('Greys'))"
   ]
  },
  {
   "cell_type": "code",
   "execution_count": null,
   "metadata": {},
   "outputs": [],
   "source": [
    "vdf.plot_widget(vdf.index, vdf.Address, what=\"max(Access)\", colormap=plt.get_cmap('Greys'))"
   ]
  },
  {
   "cell_type": "code",
   "execution_count": null,
   "metadata": {},
   "outputs": [],
   "source": [
    "vdf.plot(vdf.index, vdf.Address, what=\"max(Access)\", colormap=plt.get_cmap('Greys'))"
   ]
  },
  {
   "cell_type": "code",
   "execution_count": null,
   "metadata": {},
   "outputs": [],
   "source": [
    "vdf.plot(vdf.index, vdf.Address, what=\"mean(Access)\", colormap=plt.get_cmap('Greys'))"
   ]
  },
  {
   "cell_type": "code",
   "execution_count": null,
   "metadata": {},
   "outputs": [],
   "source": [
    "vdf = vaex.open('trace.hdf5')\n",
    "vdf['index'] = np.arange(0, vdf.Address.count())\n",
    "vdf"
   ]
  },
  {
   "cell_type": "code",
   "execution_count": null,
   "metadata": {},
   "outputs": [],
   "source": [
    "vdf.plot_widget(vdf.index, vdf.Address, what=\"max(Access)\", colormap=plt.get_cmap('Greys'))"
   ]
  },
  {
   "cell_type": "code",
   "execution_count": null,
   "metadata": {},
   "outputs": [],
   "source": [
    "vdf.plot1d(vdf.Access, limits=[0, 40])"
   ]
  },
  {
   "cell_type": "code",
   "execution_count": null,
   "metadata": {},
   "outputs": [],
   "source": [
    "[vdf[vdf.Access==x].count() for x in [4, 8, 16, 32]] # block size 8"
   ]
  },
  {
   "cell_type": "code",
   "execution_count": null,
   "metadata": {},
   "outputs": [],
   "source": [
    "[vdf[vdf.Access==x].count() for x in [4, 8, 16, 32]] # block size 4"
   ]
  },
  {
   "cell_type": "code",
   "execution_count": null,
   "metadata": {},
   "outputs": [],
   "source": [
    "[vdf[vdf.Access==x].count() for x in [4, 8, 16, 32]] # block size 25"
   ]
  },
  {
   "cell_type": "code",
   "execution_count": null,
   "metadata": {},
   "outputs": [],
   "source": [
    "[vdf[vdf.Access==x].count() for x in [4, 8, 16, 32]] # block size 100"
   ]
  },
  {
   "cell_type": "code",
   "execution_count": null,
   "metadata": {},
   "outputs": [],
   "source": []
  },
  {
   "cell_type": "code",
   "execution_count": null,
   "metadata": {},
   "outputs": [],
   "source": [
    "vdf.plot1d(vdf.Access)"
   ]
  },
  {
   "cell_type": "code",
   "execution_count": null,
   "metadata": {},
   "outputs": [],
   "source": []
  }
 ],
 "metadata": {
  "kernelspec": {
   "display_name": "Python 3",
   "language": "python",
   "name": "python3"
  },
  "language_info": {
   "codemirror_mode": {
    "name": "ipython",
    "version": 3
   },
   "file_extension": ".py",
   "mimetype": "text/x-python",
   "name": "python",
   "nbconvert_exporter": "python",
   "pygments_lexer": "ipython3",
   "version": "3.7.6"
  }
 },
 "nbformat": 4,
 "nbformat_minor": 4
}
