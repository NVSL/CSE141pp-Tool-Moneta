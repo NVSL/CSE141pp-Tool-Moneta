{
 "cells": [
  {
   "cell_type": "markdown",
   "metadata": {},
   "source": [
    "# Simple CNN"
   ]
  },
  {
   "cell_type": "code",
   "execution_count": null,
   "metadata": {},
   "outputs": [],
   "source": [
    "import matplotlib.pyplot as plt\n",
    "from matplotlib.pyplot import figure\n",
    "import csv\n",
    "import numpy as np"
   ]
  },
  {
   "cell_type": "code",
   "execution_count": null,
   "metadata": {},
   "outputs": [],
   "source": [
    "def_base = plt.rcParams['lines.markersize']"
   ]
  },
  {
   "cell_type": "code",
   "execution_count": null,
   "metadata": {},
   "outputs": [],
   "source": [
    "def plot_stuff(l, n, inds=list(range(100)), sub_size=1, s=1, title=\"graph\"):\n",
    "    plt.figure(figsize=(20,10))\n",
    "    plt.scatter(inds[:n:s],l[:n:s], label='addrs', s=(def_base*sub_size/2)**2)\n",
    "    plt.xlabel('x')\n",
    "    plt.title(title)\n",
    "    plt.legend()\n",
    "\n",
    "    plt.show()"
   ]
  },
  {
   "cell_type": "markdown",
   "metadata": {},
   "source": [
    "# Dumping Memory Accesses"
   ]
  },
  {
   "cell_type": "code",
   "execution_count": null,
   "metadata": {},
   "outputs": [],
   "source": [
    "dump_acc = []\n",
    "\n",
    "with open('print_test.txt','r') as csvfile:\n",
    "    plots = csv.reader(csvfile, delimiter=',')\n",
    "    for row in plots:\n",
    "        dump_acc.append(int(row[0],16))"
   ]
  },
  {
   "cell_type": "code",
   "execution_count": null,
   "metadata": {},
   "outputs": [],
   "source": [
    "plot_stuff(dump_acc, 1000, inds=list(range(1000)), title='Memory accesses from dump')"
   ]
  },
  {
   "cell_type": "code",
   "execution_count": null,
   "metadata": {},
   "outputs": [],
   "source": [
    "plt.figure(figsize=(20,10))\n",
    "plt.plot(dump_acc[:1000], label='addrs')\n",
    "plt.xlabel('x')\n",
    "plt.title('Linear plot')\n",
    "plt.legend()\n",
    "plt.show()"
   ]
  },
  {
   "cell_type": "markdown",
   "metadata": {},
   "source": [
    "# Pinning Memory Accesses"
   ]
  },
  {
   "cell_type": "code",
   "execution_count": null,
   "metadata": {},
   "outputs": [],
   "source": [
    "pin_acc=[]\n",
    "\n",
    "with open('timed_test_mem.out','r') as csvfile:\n",
    "    plots = csv.reader(csvfile, delimiter=' ')\n",
    "    for row in plots:\n",
    "        pin_acc.append(int(row[1],16))"
   ]
  },
  {
   "cell_type": "code",
   "execution_count": null,
   "metadata": {},
   "outputs": [],
   "source": [
    "plot_stuff(pin_acc, 1000, inds=list(range(1000)), title='Pin accesses - scatter')"
   ]
  },
  {
   "cell_type": "code",
   "execution_count": null,
   "metadata": {},
   "outputs": [],
   "source": [
    "plt.figure(figsize=(20,10))\n",
    "plt.plot(pin_acc[:1000], label='addrs')\n",
    "plt.xlabel('x')\n",
    "plt.title('Pin accesses - linear')\n",
    "plt.legend()\n",
    "\n",
    "plt.show()"
   ]
  },
  {
   "cell_type": "markdown",
   "metadata": {},
   "source": [
    "# Better plots using Numpy"
   ]
  },
  {
   "cell_type": "code",
   "execution_count": null,
   "metadata": {},
   "outputs": [],
   "source": [
    "npin_acc = np.array(pin_acc)\n",
    "npin_acc_min = npin_acc - npin_acc.min() # Subtract minimum\n",
    "npin_acc_med = npin_acc - np.median(npin_acc) # Subtract median"
   ]
  },
  {
   "cell_type": "code",
   "execution_count": null,
   "metadata": {},
   "outputs": [],
   "source": [
    "plot_stuff(npin_acc_min, 1000, inds=list(range(1000))) # Only y axis changes\n",
    "plot_stuff(npin_acc_med, 1000, inds=list(range(1000)))"
   ]
  },
  {
   "cell_type": "code",
   "execution_count": null,
   "metadata": {},
   "outputs": [],
   "source": [
    "# Split into groups of size sub_size and take mean of each group along with their average indices/times\n",
    "sub_size = 4\n",
    "chunks = len(npin_acc_min)//sub_size\n",
    "npin_acc_min_g = [a.mean() for a in np.array_split(npin_acc_min, chunks)]\n",
    "npin_amg_inds = [a.mean() for a in np.array_split(np.arange(1,len(npin_acc_min)), chunks)]\n",
    "\n",
    "n = 100\n",
    "plot_stuff(npin_acc_min_g, n, inds=npin_amg_inds, sub_size=sub_size, title='Reduced Pin Accesses')\n",
    "plot_stuff(npin_acc_min, n*sub_size, inds = list(range(n*sub_size)), sub_size=1, title='Default')"
   ]
  },
  {
   "cell_type": "code",
   "execution_count": null,
   "metadata": {},
   "outputs": [],
   "source": [
    "# Change to 8\n",
    "sub_size = 8\n",
    "chunks = len(npin_acc_min)//sub_size\n",
    "npin_acc_min_g = [a.mean() for a in np.array_split(npin_acc_min, chunks)]\n",
    "npin_amg_inds = [a.mean() for a in np.array_split(np.arange(1,len(npin_acc_min)), chunks)]\n",
    "\n",
    "n = 100\n",
    "plot_stuff(npin_acc_min_g, n, inds=npin_amg_inds, sub_size=sub_size, title='Reduced Pin Accesses')\n",
    "plot_stuff(npin_acc_min, n*sub_size, inds=list(range(n*sub_size)), sub_size=1, title='Default')"
   ]
  },
  {
   "cell_type": "markdown",
   "metadata": {},
   "source": [
    "# KMeans"
   ]
  },
  {
   "cell_type": "code",
   "execution_count": null,
   "metadata": {},
   "outputs": [],
   "source": [
    "from sklearn.cluster import KMeans"
   ]
  },
  {
   "cell_type": "code",
   "execution_count": null,
   "metadata": {},
   "outputs": [],
   "source": [
    "n=1000\n",
    "X = np.array([npin_amg_inds[:n], npin_acc_min_g[:n]])\n",
    "X = X.T"
   ]
  },
  {
   "cell_type": "code",
   "execution_count": null,
   "metadata": {},
   "outputs": [],
   "source": [
    "# num clusters 1 - 100 every 10\n",
    "for k in range(1, 100, 10):\n",
    "    kmeans = KMeans(n_clusters=k)\n",
    "    kmeans.fit(X)\n",
    "    y_kmeans = kmeans.predict(X)\n",
    "    centers = kmeans.cluster_centers_\n",
    "    plt.scatter(X[:, 0], X[:, 1], c=y_kmeans, s=1, cmap='viridis') # Graph all points according to their cluster\n",
    "    plt.scatter(centers[:, 0], centers[:, 1], c='black', s=200, alpha=0.5) # Cluster centers\n",
    "    plt.show()"
   ]
  },
  {
   "cell_type": "code",
   "execution_count": null,
   "metadata": {},
   "outputs": [],
   "source": [
    "len(pin_acc)"
   ]
  },
  {
   "cell_type": "code",
   "execution_count": null,
   "metadata": {},
   "outputs": [],
   "source": [
    "len(dump_acc)"
   ]
  },
  {
   "cell_type": "code",
   "execution_count": null,
   "metadata": {},
   "outputs": [],
   "source": []
  }
 ],
 "metadata": {
  "kernelspec": {
   "display_name": "Python 3",
   "language": "python",
   "name": "python3"
  },
  "language_info": {
   "codemirror_mode": {
    "name": "ipython",
    "version": 3
   },
   "file_extension": ".py",
   "mimetype": "text/x-python",
   "name": "python",
   "nbconvert_exporter": "python",
   "pygments_lexer": "ipython3",
   "version": "3.7.6"
  }
 },
 "nbformat": 4,
 "nbformat_minor": 4
}
