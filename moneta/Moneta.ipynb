{
 "cells": [
  {
   "cell_type": "code",
   "execution_count": 1,
   "metadata": {
    "scrolled": false
   },
   "outputs": [
    {
     "name": "stderr",
     "output_type": "stream",
     "text": [
      "2020-08-26 19:19:18,267: [       __main__] - INFO - Starting main\n",
      "2020-08-26 19:19:18,271: [          model] - INFO - __init__\n",
      "2020-08-26 19:19:18,276: [           view] - INFO - __init__\n",
      "2020-08-26 19:19:18,278: [           view] - INFO - Initializing widgets\n",
      "2020-08-26 19:19:18,280: [ moneta_widgets] - INFO - __init__\n",
      "2020-08-26 19:19:18,349: [           root] - DEBUG - Reading history from file: ['./Examples/build']\n",
      "2020-08-26 19:19:18,592: [          utils] - INFO - Reading outfile directory\n",
      "2020-08-26 19:19:18,597: [          utils] - INFO - Checking .gitkeep\n",
      "2020-08-26 19:19:18,600: [          utils] - INFO - Checking cwd_history\n",
      "2020-08-26 19:19:18,601: [          utils] - INFO - Checking meta_data_base.txt\n",
      "2020-08-26 19:19:18,603: [          utils] - INFO - Checking tag_map_base.csv\n",
      "2020-08-26 19:19:18,606: [          utils] - INFO - Checking trace_base.hdf5\n",
      "2020-08-26 19:19:18,609: [          utils] - DEBUG - Trace: base, Tag: /home/jovyan/work/moneta/.output/tag_map_base.csv\n"
     ]
    },
    {
     "data": {
      "application/vnd.jupyter.widget-view+json": {
       "model_id": "3889fb75b9444d66b9864ae85120429a",
       "version_major": 2,
       "version_minor": 0
      },
      "text/plain": [
       "VBox(children=(HBox(children=(VBox(children=(IntText(value=4096, description='Cache Lines:', layout=Layout(wid…"
      ]
     },
     "metadata": {},
     "output_type": "display_data"
    },
    {
     "name": "stderr",
     "output_type": "stream",
     "text": [
      "2020-08-26 19:19:19,691: [           view] - INFO - Load Trace clicked\n",
      "2020-08-26 19:19:19,693: [          model] - INFO - Loading trace\n",
      "2020-08-26 19:19:19,694: [          trace] - INFO - __init__\n"
     ]
    },
    {
     "name": "stdout",
     "output_type": "stream",
     "text": [
      "vaex extended bqplot init\n",
      "vaex extended plot base init\n",
      "in toolbar adding\n"
     ]
    },
    {
     "data": {
      "application/vnd.jupyter.widget-view+json": {
       "model_id": "b10a1bcdbcbc4f72b351ff6814f1a829",
       "version_major": 2,
       "version_minor": 0
      },
      "text/plain": [
       "PlotTemplate(components={'main-widget': VBox(children=(HBox(children=(VBox(children=(Figure(axes=[Axis(color='…"
      ]
     },
     "metadata": {},
     "output_type": "display_data"
    },
    {
     "name": "stdout",
     "output_type": "stream",
     "text": [
      "plotting click zoom\n",
      "bqplot: updating limits\n",
      "bqplot: updating limits\n",
      "undoing/redoing: (<Action.undo: 1>, [[(0.0, 3866911.0), (140736657505472.0, 140736657521468.0)]]) Action.undo\n",
      "[[(0.0, 3866911.0), (140736657505472.0, 140736657521468.0)]]\n",
      "bqplot: updating limits\n",
      "bqplot: updating limits\n",
      "plotting click zoom\n",
      "bqplot: updating limits\n",
      "bqplot: updating limits\n",
      "bqplot: updating limits\n",
      "bqplot: updating limits\n"
     ]
    }
   ],
   "source": [
    "%run moneta/main"
   ]
  },
  {
   "cell_type": "code",
   "execution_count": null,
   "metadata": {},
   "outputs": [],
   "source": []
  }
 ],
 "metadata": {
  "kernelspec": {
   "display_name": "Python 3",
   "language": "python",
   "name": "python3"
  },
  "language_info": {
   "codemirror_mode": {
    "name": "ipython",
    "version": 3
   },
   "file_extension": ".py",
   "mimetype": "text/x-python",
   "name": "python",
   "nbconvert_exporter": "python",
   "pygments_lexer": "ipython3",
   "version": "3.7.6"
  }
 },
 "nbformat": 4,
 "nbformat_minor": 4
}
