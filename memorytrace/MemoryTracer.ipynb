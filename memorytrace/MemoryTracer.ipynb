{
 "cells": [
  {
   "cell_type": "code",
   "execution_count": 7,
   "metadata": {
    "scrolled": false
   },
   "outputs": [
    {
     "name": "stderr",
     "output_type": "stream",
     "text": [
      "2020-05-28 04:01:09,319 - INFO - Setting up widgets\n",
      "2020-05-28 04:01:09,320 - INFO - Setting up generate trace widgets with handlers\n",
      "2020-05-28 04:01:09,384 - INFO - Setting up load widgets with handlers\n",
      "2020-05-28 04:01:09,387 - INFO - Reading outfile directory\n",
      "2020-05-28 04:01:09,388 - INFO - Checking trace_sorting.hdf5\n",
      "2020-05-28 04:01:09,390 - DEBUG - Trace: sorting, Tag: /setup/converter/outfiles/tag_map_sorting.csv\n",
      "2020-05-28 04:01:09,391 - INFO - Checking meta_data_matrixMult.txt\n",
      "2020-05-28 04:01:09,395 - INFO - Checking tag_map_matrixMult.csv\n",
      "2020-05-28 04:01:09,396 - INFO - Checking trace_matrixMult.hdf5\n",
      "2020-05-28 04:01:09,402 - DEBUG - Trace: matrixMult, Tag: /setup/converter/outfiles/tag_map_matrixMult.csv\n",
      "2020-05-28 04:01:09,407 - INFO - Checking meta_data_sorting.txt\n",
      "2020-05-28 04:01:09,415 - INFO - Checking tag_map_sorting.csv\n"
     ]
    },
    {
     "data": {
      "application/vnd.jupyter.widget-view+json": {
       "model_id": "035f70461670406d9e77695d6c8a6de9",
       "version_major": 2,
       "version_minor": 0
      },
      "text/plain": [
       "HBox(children=(VBox(children=(IntText(value=4096, description='Cache Lines:', layout=Layout(width='90%'), styl…"
      ]
     },
     "metadata": {},
     "output_type": "display_data"
    }
   ],
   "source": [
    "%run main.py"
   ]
  },
  {
   "cell_type": "code",
   "execution_count": 2,
   "metadata": {},
   "outputs": [
    {
     "name": "stderr",
     "output_type": "stream",
     "text": [
      "2020-05-28 03:57:54,974 - DEBUG - locator: <matplotlib.ticker.FixedLocator object at 0x7fd2f6618e90>\n",
      "2020-05-28 03:57:54,985 - DEBUG - Using auto colorbar locator on colorbar\n",
      "2020-05-28 03:57:54,988 - DEBUG - locator: <matplotlib.ticker.FixedLocator object at 0x7fd2f6618e90>\n",
      "2020-05-28 03:57:54,991 - DEBUG - Setting pcolormesh\n",
      "2020-05-28 03:57:55,021 - DEBUG - findfont: Matching :family=sans-serif:style=normal:variant=normal:weight=normal:stretch=normal:size=10.0.\n",
      "2020-05-28 03:57:55,025 - DEBUG - findfont: score(<Font 'STIXSizeOneSym' (STIXSizOneSymBol.ttf) normal normal bold normal>) = 10.335\n",
      "2020-05-28 03:57:55,027 - DEBUG - findfont: score(<Font 'DejaVu Sans Display' (DejaVuSansDisplay.ttf) normal normal 400 normal>) = 10.05\n",
      "2020-05-28 03:57:55,029 - DEBUG - findfont: score(<Font 'STIXGeneral' (STIXGeneralItalic.ttf) italic normal 400 normal>) = 11.05\n",
      "2020-05-28 03:57:55,032 - DEBUG - findfont: score(<Font 'DejaVu Serif Display' (DejaVuSerifDisplay.ttf) normal normal 400 normal>) = 10.05\n",
      "2020-05-28 03:57:55,036 - DEBUG - findfont: score(<Font 'STIXNonUnicode' (STIXNonUni.ttf) normal normal regular normal>) = 10.05\n",
      "2020-05-28 03:57:55,038 - DEBUG - findfont: score(<Font 'DejaVu Serif' (DejaVuSerif.ttf) normal normal 400 normal>) = 10.05\n",
      "2020-05-28 03:57:55,039 - DEBUG - findfont: score(<Font 'DejaVu Sans Mono' (DejaVuSansMono-Bold.ttf) normal normal bold normal>) = 10.335\n",
      "2020-05-28 03:57:55,041 - DEBUG - findfont: score(<Font 'STIXSizeThreeSym' (STIXSizThreeSymBol.ttf) normal normal bold normal>) = 10.335\n",
      "2020-05-28 03:57:55,042 - DEBUG - findfont: score(<Font 'DejaVu Sans' (DejaVuSans-BoldOblique.ttf) oblique normal bold normal>) = 1.335\n",
      "2020-05-28 03:57:55,043 - DEBUG - findfont: score(<Font 'DejaVu Sans' (DejaVuSans-Oblique.ttf) oblique normal 400 normal>) = 1.05\n",
      "2020-05-28 03:57:55,045 - DEBUG - findfont: score(<Font 'STIXGeneral' (STIXGeneralBolIta.ttf) italic normal bold normal>) = 11.335\n",
      "2020-05-28 03:57:55,046 - DEBUG - findfont: score(<Font 'STIXSizeThreeSym' (STIXSizThreeSymReg.ttf) normal normal regular normal>) = 10.05\n",
      "2020-05-28 03:57:55,071 - DEBUG - findfont: score(<Font 'STIXNonUnicode' (STIXNonUniIta.ttf) italic normal 400 normal>) = 11.05\n",
      "2020-05-28 03:57:55,074 - DEBUG - findfont: score(<Font 'DejaVu Serif' (DejaVuSerif-Italic.ttf) italic normal 400 normal>) = 11.05\n",
      "2020-05-28 03:57:55,077 - DEBUG - findfont: score(<Font 'DejaVu Serif' (DejaVuSerif-Bold.ttf) normal normal bold normal>) = 10.335\n",
      "2020-05-28 03:57:55,079 - DEBUG - findfont: score(<Font 'DejaVu Sans Mono' (DejaVuSansMono.ttf) normal normal 400 normal>) = 10.05\n",
      "2020-05-28 03:57:55,083 - DEBUG - findfont: score(<Font 'cmmi10' (cmmi10.ttf) normal normal 400 normal>) = 10.05\n",
      "2020-05-28 03:57:55,089 - DEBUG - findfont: score(<Font 'STIXSizeTwoSym' (STIXSizTwoSymReg.ttf) normal normal regular normal>) = 10.05\n",
      "2020-05-28 03:57:55,093 - DEBUG - findfont: score(<Font 'DejaVu Sans' (DejaVuSans-Bold.ttf) normal normal bold normal>) = 0.33499999999999996\n",
      "2020-05-28 03:57:55,095 - DEBUG - findfont: score(<Font 'DejaVu Serif' (DejaVuSerif-BoldItalic.ttf) italic normal bold normal>) = 11.335\n",
      "2020-05-28 03:57:55,097 - DEBUG - findfont: score(<Font 'STIXGeneral' (STIXGeneral.ttf) normal normal regular normal>) = 10.05\n",
      "2020-05-28 03:57:55,100 - DEBUG - findfont: score(<Font 'cmex10' (cmex10.ttf) normal normal 400 normal>) = 10.05\n",
      "2020-05-28 03:57:55,104 - DEBUG - findfont: score(<Font 'STIXGeneral' (STIXGeneralBol.ttf) normal normal bold normal>) = 10.335\n",
      "2020-05-28 03:57:55,108 - DEBUG - findfont: score(<Font 'cmr10' (cmr10.ttf) normal normal 400 normal>) = 10.05\n",
      "2020-05-28 03:57:55,110 - DEBUG - findfont: score(<Font 'cmsy10' (cmsy10.ttf) normal normal 400 normal>) = 10.05\n",
      "2020-05-28 03:57:55,113 - DEBUG - findfont: score(<Font 'STIXSizeFourSym' (STIXSizFourSymBol.ttf) normal normal bold normal>) = 10.335\n",
      "2020-05-28 03:57:55,116 - DEBUG - findfont: score(<Font 'DejaVu Sans' (DejaVuSans.ttf) normal normal 400 normal>) = 0.05\n",
      "2020-05-28 03:57:55,125 - DEBUG - findfont: score(<Font 'STIXNonUnicode' (STIXNonUniBolIta.ttf) italic normal bold normal>) = 11.335\n",
      "2020-05-28 03:57:55,141 - DEBUG - findfont: score(<Font 'DejaVu Sans Mono' (DejaVuSansMono-BoldOblique.ttf) oblique normal bold normal>) = 11.335\n",
      "2020-05-28 03:57:55,142 - DEBUG - findfont: score(<Font 'STIXSizeTwoSym' (STIXSizTwoSymBol.ttf) normal normal bold normal>) = 10.335\n",
      "2020-05-28 03:57:55,142 - DEBUG - findfont: score(<Font 'STIXNonUnicode' (STIXNonUniBol.ttf) normal normal bold normal>) = 10.335\n",
      "2020-05-28 03:57:55,143 - DEBUG - findfont: score(<Font 'cmss10' (cmss10.ttf) normal normal 400 normal>) = 10.05\n",
      "2020-05-28 03:57:55,144 - DEBUG - findfont: score(<Font 'DejaVu Sans Mono' (DejaVuSansMono-Oblique.ttf) oblique normal 400 normal>) = 11.05\n",
      "2020-05-28 03:57:55,147 - DEBUG - findfont: score(<Font 'cmtt10' (cmtt10.ttf) normal normal 400 normal>) = 10.05\n",
      "2020-05-28 03:57:55,149 - DEBUG - findfont: score(<Font 'STIXSizeFiveSym' (STIXSizFiveSymReg.ttf) normal normal regular normal>) = 10.05\n",
      "2020-05-28 03:57:55,158 - DEBUG - findfont: score(<Font 'STIXSizeFourSym' (STIXSizFourSymReg.ttf) normal normal regular normal>) = 10.05\n",
      "2020-05-28 03:57:55,159 - DEBUG - findfont: score(<Font 'STIXSizeOneSym' (STIXSizOneSymReg.ttf) normal normal regular normal>) = 10.05\n",
      "2020-05-28 03:57:55,161 - DEBUG - findfont: score(<Font 'cmb10' (cmb10.ttf) normal normal 400 normal>) = 10.05\n",
      "2020-05-28 03:57:55,166 - DEBUG - findfont: score(<Font 'Liberation Sans' (LiberationSans-BoldItalic.ttf) italic normal bold normal>) = 11.335\n",
      "2020-05-28 03:57:55,167 - DEBUG - findfont: score(<Font 'Latin Modern Mono Light' (lmmonolt10-bold.otf) normal normal light normal>) = 10.24\n",
      "2020-05-28 03:57:55,175 - DEBUG - findfont: score(<Font 'Latin Modern Sans' (lmsans10-regular.otf) normal normal regular normal>) = 10.05\n",
      "2020-05-28 03:57:55,176 - DEBUG - findfont: score(<Font 'Latin Modern Mono Light Cond' (lmmonoltcond10-regular.otf) normal normal light condensed>) = 10.44\n",
      "2020-05-28 03:57:55,179 - DEBUG - findfont: score(<Font 'Liberation Mono' (LiberationMono-Bold.ttf) normal normal bold normal>) = 10.335\n",
      "2020-05-28 03:57:55,181 - DEBUG - findfont: score(<Font 'Latin Modern Math' (latinmodern-math.otf) normal normal regular normal>) = 10.05\n",
      "2020-05-28 03:57:55,183 - DEBUG - findfont: score(<Font 'Latin Modern Roman' (lmroman7-italic.otf) italic normal roman normal>) = 11.145\n",
      "2020-05-28 03:57:55,184 - DEBUG - findfont: score(<Font 'Latin Modern Sans Demi Cond' (lmsansdemicond10-oblique.otf) oblique normal demi condensed>) = 11.44\n",
      "2020-05-28 03:57:55,186 - DEBUG - findfont: score(<Font 'Latin Modern Sans' (lmsans8-oblique.otf) oblique normal 400 normal>) = 11.05\n",
      "2020-05-28 03:57:55,187 - DEBUG - findfont: score(<Font 'Latin Modern Mono Light' (lmmonolt10-boldoblique.otf) oblique normal light normal>) = 11.24\n",
      "2020-05-28 03:57:55,190 - DEBUG - findfont: score(<Font 'Latin Modern Roman' (lmroman10-italic.otf) italic normal roman normal>) = 11.145\n",
      "2020-05-28 03:57:55,191 - DEBUG - findfont: score(<Font 'Liberation Mono' (LiberationMono-BoldItalic.ttf) italic normal bold normal>) = 11.335\n",
      "2020-05-28 03:57:55,192 - DEBUG - findfont: score(<Font 'Latin Modern Roman' (lmroman8-italic.otf) italic normal roman normal>) = 11.145\n",
      "2020-05-28 03:57:55,193 - DEBUG - findfont: score(<Font 'Latin Modern Roman Slanted' (lmromanslant17-regular.otf) normal normal regular normal>) = 10.05\n",
      "2020-05-28 03:57:55,194 - DEBUG - findfont: score(<Font 'Liberation Sans' (LiberationSans-Regular.ttf) normal normal 400 normal>) = 10.05\n",
      "2020-05-28 03:57:55,196 - DEBUG - findfont: score(<Font 'Latin Modern Roman' (lmroman8-regular.otf) normal normal regular normal>) = 10.05\n",
      "2020-05-28 03:57:55,197 - DEBUG - findfont: score(<Font 'Latin Modern Sans Quotation' (lmsansquot8-boldoblique.otf) oblique normal bold normal>) = 11.335\n",
      "2020-05-28 03:57:55,202 - DEBUG - findfont: score(<Font 'Latin Modern Roman' (lmroman12-italic.otf) italic normal roman normal>) = 11.145\n",
      "2020-05-28 03:57:55,203 - DEBUG - findfont: score(<Font 'Latin Modern Sans Quotation' (lmsansquot8-regular.otf) normal normal regular normal>) = 10.05\n",
      "2020-05-28 03:57:55,209 - DEBUG - findfont: score(<Font 'Liberation Serif' (LiberationSerif-Bold.ttf) normal normal bold normal>) = 10.335\n"
     ]
    },
    {
     "name": "stderr",
     "output_type": "stream",
     "text": [
      "2020-05-28 03:57:55,211 - DEBUG - findfont: score(<Font 'Latin Modern Roman Slanted' (lmromanslant10-bold.otf) normal normal roman normal>) = 10.145\n",
      "2020-05-28 03:57:55,214 - DEBUG - findfont: score(<Font 'Liberation Sans Narrow' (LiberationSansNarrow-Bold.ttf) normal normal bold condensed>) = 10.535\n",
      "2020-05-28 03:57:55,215 - DEBUG - findfont: score(<Font 'Latin Modern Mono Prop Light' (lmmonoproplt10-regular.otf) normal normal light normal>) = 10.24\n",
      "2020-05-28 03:57:55,217 - DEBUG - findfont: score(<Font 'Latin Modern Sans' (lmsans10-boldoblique.otf) oblique normal bold normal>) = 11.335\n",
      "2020-05-28 03:57:55,219 - DEBUG - findfont: score(<Font 'Latin Modern Mono Light' (lmmonolt10-regular.otf) normal normal light normal>) = 10.24\n",
      "2020-05-28 03:57:55,220 - DEBUG - findfont: score(<Font 'Latin Modern Mono Prop' (lmmonoprop10-oblique.otf) oblique normal 400 normal>) = 11.05\n",
      "2020-05-28 03:57:55,222 - DEBUG - findfont: score(<Font 'Latin Modern Roman Slanted' (lmromanslant12-regular.otf) normal normal regular normal>) = 10.05\n",
      "2020-05-28 03:57:55,224 - DEBUG - findfont: score(<Font 'Latin Modern Mono Light Cond' (lmmonoltcond10-oblique.otf) oblique normal light condensed>) = 11.44\n",
      "2020-05-28 03:57:55,225 - DEBUG - findfont: score(<Font 'Latin Modern Sans' (lmsans9-oblique.otf) oblique normal 400 normal>) = 11.05\n",
      "2020-05-28 03:57:55,228 - DEBUG - findfont: score(<Font 'Latin Modern Mono Light' (lmmonolt10-oblique.otf) oblique normal light normal>) = 11.24\n",
      "2020-05-28 03:57:55,229 - DEBUG - findfont: score(<Font 'Latin Modern Mono' (lmmono12-regular.otf) normal normal regular normal>) = 10.05\n",
      "2020-05-28 03:57:55,257 - DEBUG - findfont: score(<Font 'Latin Modern Mono Slanted' (lmmonoslant10-regular.otf) normal normal regular normal>) = 10.05\n",
      "2020-05-28 03:57:55,260 - DEBUG - findfont: score(<Font 'Latin Modern Mono' (lmmono10-italic.otf) italic normal 400 normal>) = 11.05\n",
      "2020-05-28 03:57:55,278 - DEBUG - findfont: score(<Font 'Latin Modern Roman' (lmroman7-regular.otf) normal normal regular normal>) = 10.05\n",
      "2020-05-28 03:57:55,283 - DEBUG - findfont: score(<Font 'Latin Modern Sans' (lmsans10-bold.otf) normal normal bold normal>) = 10.335\n",
      "2020-05-28 03:57:55,285 - DEBUG - findfont: score(<Font 'Latin Modern Mono Prop' (lmmonoprop10-regular.otf) normal normal regular normal>) = 10.05\n",
      "2020-05-28 03:57:55,286 - DEBUG - findfont: score(<Font 'Latin Modern Roman Slanted' (lmromanslant10-regular.otf) normal normal regular normal>) = 10.05\n",
      "2020-05-28 03:57:55,287 - DEBUG - findfont: score(<Font 'Latin Modern Roman Slanted' (lmromanslant9-regular.otf) normal normal regular normal>) = 10.05\n",
      "2020-05-28 03:57:55,290 - DEBUG - findfont: score(<Font 'Latin Modern Roman Dunhill' (lmromandunh10-regular.otf) normal normal regular normal>) = 10.05\n",
      "2020-05-28 03:57:55,292 - DEBUG - findfont: score(<Font 'Liberation Serif' (LiberationSerif-Regular.ttf) normal normal 400 normal>) = 10.05\n",
      "2020-05-28 03:57:55,293 - DEBUG - findfont: score(<Font 'Latin Modern Roman' (lmroman10-bold.otf) normal normal roman normal>) = 10.145\n",
      "2020-05-28 03:57:55,295 - DEBUG - findfont: score(<Font 'Latin Modern Sans' (lmsans9-regular.otf) normal normal regular normal>) = 10.05\n",
      "2020-05-28 03:57:55,299 - DEBUG - findfont: score(<Font 'Latin Modern Roman' (lmroman6-regular.otf) normal normal regular normal>) = 10.05\n",
      "2020-05-28 03:57:55,300 - DEBUG - findfont: score(<Font 'Liberation Sans Narrow' (LiberationSansNarrow-Italic.ttf) italic normal 400 condensed>) = 11.25\n",
      "2020-05-28 03:57:55,302 - DEBUG - findfont: score(<Font 'Latin Modern Sans' (lmsans12-oblique.otf) oblique normal 400 normal>) = 11.05\n",
      "2020-05-28 03:57:55,304 - DEBUG - findfont: score(<Font 'Liberation Sans Narrow' (LiberationSansNarrow-BoldItalic.ttf) italic normal bold condensed>) = 11.535\n",
      "2020-05-28 03:57:55,306 - DEBUG - findfont: score(<Font 'Latin Modern Roman' (lmroman7-bold.otf) normal normal roman normal>) = 10.145\n",
      "2020-05-28 03:57:55,307 - DEBUG - findfont: score(<Font 'Latin Modern Roman' (lmroman17-regular.otf) normal normal regular normal>) = 10.05\n",
      "2020-05-28 03:57:55,309 - DEBUG - findfont: score(<Font 'Latin Modern Mono' (lmmono9-regular.otf) normal normal regular normal>) = 10.05\n",
      "2020-05-28 03:57:55,311 - DEBUG - findfont: score(<Font 'Latin Modern Roman' (lmroman5-bold.otf) normal normal roman normal>) = 10.145\n",
      "2020-05-28 03:57:55,312 - DEBUG - findfont: score(<Font 'Latin Modern Sans' (lmsans8-regular.otf) normal normal regular normal>) = 10.05\n",
      "2020-05-28 03:57:55,314 - DEBUG - findfont: score(<Font 'Latin Modern Mono Caps' (lmmonocaps10-oblique.otf) oblique normal 400 normal>) = 11.05\n",
      "2020-05-28 03:57:55,316 - DEBUG - findfont: score(<Font 'Latin Modern Sans' (lmsans17-oblique.otf) oblique normal 400 normal>) = 11.05\n",
      "2020-05-28 03:57:55,317 - DEBUG - findfont: score(<Font 'Latin Modern Roman' (lmroman12-regular.otf) normal normal regular normal>) = 10.05\n",
      "2020-05-28 03:57:55,319 - DEBUG - findfont: score(<Font 'Liberation Sans' (LiberationSans-Bold.ttf) normal normal bold normal>) = 10.335\n",
      "2020-05-28 03:57:55,320 - DEBUG - findfont: score(<Font 'Latin Modern Roman Demi' (lmromandemi10-oblique.otf) oblique normal roman normal>) = 11.145\n",
      "2020-05-28 03:57:55,322 - DEBUG - findfont: score(<Font 'Latin Modern Roman' (lmroman10-bolditalic.otf) italic normal roman normal>) = 11.145\n",
      "2020-05-28 03:57:55,324 - DEBUG - findfont: score(<Font 'Latin Modern Roman' (lmroman5-regular.otf) normal normal regular normal>) = 10.05\n",
      "2020-05-28 03:57:55,326 - DEBUG - findfont: score(<Font 'Latin Modern Roman' (lmroman9-italic.otf) italic normal roman normal>) = 11.145\n",
      "2020-05-28 03:57:55,328 - DEBUG - findfont: score(<Font 'Latin Modern Sans Quotation' (lmsansquot8-oblique.otf) oblique normal 700 normal>) = 11.335\n",
      "2020-05-28 03:57:55,331 - DEBUG - findfont: score(<Font 'Latin Modern Mono Prop Light' (lmmonoproplt10-boldoblique.otf) oblique normal light normal>) = 11.24\n",
      "2020-05-28 03:57:55,332 - DEBUG - findfont: score(<Font 'Latin Modern Roman' (lmroman6-bold.otf) normal normal roman normal>) = 10.145\n",
      "2020-05-28 03:57:55,334 - DEBUG - findfont: score(<Font 'Latin Modern Mono Caps' (lmmonocaps10-regular.otf) normal normal regular normal>) = 10.05\n",
      "2020-05-28 03:57:55,335 - DEBUG - findfont: score(<Font 'Latin Modern Mono Prop Light' (lmmonoproplt10-bold.otf) normal normal light normal>) = 10.24\n",
      "2020-05-28 03:57:55,341 - DEBUG - findfont: score(<Font 'Liberation Sans Narrow' (LiberationSansNarrow-Regular.ttf) normal normal 400 condensed>) = 10.25\n",
      "2020-05-28 03:57:55,342 - DEBUG - findfont: score(<Font 'Latin Modern Sans' (lmsans12-regular.otf) normal normal regular normal>) = 10.05\n",
      "2020-05-28 03:57:55,343 - DEBUG - findfont: score(<Font 'Latin Modern Roman' (lmroman12-bold.otf) normal normal roman normal>) = 10.145\n",
      "2020-05-28 03:57:55,344 - DEBUG - findfont: score(<Font 'Liberation Serif' (LiberationSerif-BoldItalic.ttf) italic normal bold normal>) = 11.335\n",
      "2020-05-28 03:57:55,345 - DEBUG - findfont: score(<Font 'Liberation Serif' (LiberationSerif-Italic.ttf) italic normal 400 normal>) = 11.05\n",
      "2020-05-28 03:57:55,371 - DEBUG - findfont: score(<Font 'Latin Modern Roman' (lmroman10-regular.otf) normal normal regular normal>) = 10.05\n",
      "2020-05-28 03:57:55,399 - DEBUG - findfont: score(<Font 'Latin Modern Roman' (lmroman9-bold.otf) normal normal roman normal>) = 10.145\n",
      "2020-05-28 03:57:55,402 - DEBUG - findfont: score(<Font 'Latin Modern Roman Demi' (lmromandemi10-regular.otf) normal normal regular normal>) = 10.05\n",
      "2020-05-28 03:57:55,405 - DEBUG - findfont: score(<Font 'Liberation Sans' (LiberationSans-Italic.ttf) italic normal 400 normal>) = 11.05\n",
      "2020-05-28 03:57:55,406 - DEBUG - findfont: score(<Font 'Latin Modern Sans' (lmsans17-regular.otf) normal normal regular normal>) = 10.05\n",
      "2020-05-28 03:57:55,416 - DEBUG - findfont: score(<Font 'Latin Modern Mono' (lmmono10-regular.otf) normal normal regular normal>) = 10.05\n",
      "2020-05-28 03:57:55,417 - DEBUG - findfont: score(<Font 'Latin Modern Roman Slanted' (lmromanslant8-regular.otf) normal normal regular normal>) = 10.05\n",
      "2020-05-28 03:57:55,422 - DEBUG - findfont: score(<Font 'Liberation Mono' (LiberationMono-Regular.ttf) normal normal 400 normal>) = 10.05\n",
      "2020-05-28 03:57:55,424 - DEBUG - findfont: score(<Font 'Latin Modern Roman Unslanted' (lmromanunsl10-regular.otf) normal normal regular normal>) = 10.05\n"
     ]
    },
    {
     "name": "stderr",
     "output_type": "stream",
     "text": [
      "2020-05-28 03:57:55,426 - DEBUG - findfont: score(<Font 'Latin Modern Mono' (lmmono8-regular.otf) normal normal regular normal>) = 10.05\n",
      "2020-05-28 03:57:55,427 - DEBUG - findfont: score(<Font 'Latin Modern Roman' (lmroman8-bold.otf) normal normal roman normal>) = 10.145\n",
      "2020-05-28 03:57:55,428 - DEBUG - findfont: score(<Font 'Latin Modern Roman' (lmroman9-regular.otf) normal normal regular normal>) = 10.05\n",
      "2020-05-28 03:57:55,431 - DEBUG - findfont: score(<Font 'Latin Modern Sans Quotation' (lmsansquot8-bold.otf) normal normal bold normal>) = 10.335\n",
      "2020-05-28 03:57:55,433 - DEBUG - findfont: score(<Font 'Latin Modern Sans' (lmsans10-oblique.otf) oblique normal 400 normal>) = 11.05\n",
      "2020-05-28 03:57:55,434 - DEBUG - findfont: score(<Font 'Liberation Mono' (LiberationMono-Italic.ttf) italic normal 400 normal>) = 11.05\n",
      "2020-05-28 03:57:55,436 - DEBUG - findfont: score(<Font 'Latin Modern Roman Caps' (lmromancaps10-oblique.otf) oblique normal roman normal>) = 11.145\n",
      "2020-05-28 03:57:55,437 - DEBUG - findfont: score(<Font 'Latin Modern Sans Demi Cond' (lmsansdemicond10-regular.otf) normal normal regular condensed>) = 10.25\n",
      "2020-05-28 03:57:55,440 - DEBUG - findfont: score(<Font 'Latin Modern Roman Dunhill' (lmromandunh10-oblique.otf) oblique normal roman normal>) = 11.145\n",
      "2020-05-28 03:57:55,442 - DEBUG - findfont: score(<Font 'Latin Modern Roman Caps' (lmromancaps10-regular.otf) normal normal regular normal>) = 10.05\n",
      "2020-05-28 03:57:55,443 - DEBUG - findfont: score(<Font 'Latin Modern Mono Prop Light' (lmmonoproplt10-oblique.otf) oblique normal light normal>) = 11.24\n",
      "2020-05-28 03:57:55,444 - DEBUG - findfont: Matching :family=sans-serif:style=normal:variant=normal:weight=normal:stretch=normal:size=10.0 to DejaVu Sans ('/opt/conda/lib/python3.7/site-packages/matplotlib/mpl-data/fonts/ttf/DejaVuSans.ttf') with score of 0.050000.\n"
     ]
    },
    {
     "data": {
      "image/png": "[encoded data removed]",
      "text/plain": [
       "<Figure size 432x288 with 1 Axes>"
      ]
     },
     "metadata": {
      "needs_background": "light"
     },
     "output_type": "display_data"
    }
   ],
   "source": [
    "import matplotlib\n",
    "import matplotlib.pyplot as plt\n",
    "fig, ax = plt.subplots()\n",
    "matplotlib.colorbar.ColorbarBase(ax=ax, cmap=custom_cmap, orientation=\"horizontal\", ticks=[.125,.25,.375,.5,.625,.75,.875,1])\n",
    "\n",
    "plt.show()"
   ]
  },
  {
   "cell_type": "code",
   "execution_count": null,
   "metadata": {},
   "outputs": [],
   "source": []
  }
 ],
 "metadata": {
  "kernelspec": {
   "display_name": "Python 3",
   "language": "python",
   "name": "python3"
  },
  "language_info": {
   "codemirror_mode": {
    "name": "ipython",
    "version": 3
   },
   "file_extension": ".py",
   "mimetype": "text/x-python",
   "name": "python",
   "nbconvert_exporter": "python",
   "pygments_lexer": "ipython3",
   "version": "3.7.6"
  }
 },
 "nbformat": 4,
 "nbformat_minor": 4
}
