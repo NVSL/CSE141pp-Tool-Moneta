{
 "cells": [
  {
   "cell_type": "code",
   "execution_count": 10,
   "metadata": {},
   "outputs": [
    {
     "data": {
      "application/vnd.jupyter.widget-view+json": {
       "model_id": "ec16493b6803460f8e6d8438bf4639cb",
       "version_major": 2,
       "version_minor": 0
      },
      "text/plain": [
       "VBox(children=(Text(value='4096', description='Cache Lines:', layout=Layout(width='90%'), placeholder='', styl…"
      ]
     },
     "metadata": {},
     "output_type": "display_data"
    }
   ],
   "source": [
    "import subprocess\n",
    "import os\n",
    "from os import path\n",
    "import ipywidgets as widgets\n",
    "from ipywidgets import Text, Button, VBox, HBox, Layout, Checkbox\n",
    "from IPython.display import clear_output\n",
    "import vaex\n",
    "import vaex.jupyter\n",
    "import numpy as np\n",
    "import pylab as plt\n",
    "\n",
    "\n",
    "def runTool(button):\n",
    "    clear_output(wait=True)\n",
    "    display(inputs)\n",
    "    \n",
    "    \n",
    "    #Args for PIN\n",
    "    PIN_DIRECTORY = \"/setup/pintool/pin.sh\"\n",
    "    TOOL_DIRECTORY = \"/setup/converter/trace_tool.so\"\n",
    "    INFILE_EXECUTABLE = path.expanduser(infile.value)\n",
    "    OUTFILE_DIRECTORY = path.expanduser(\"/setup/converter/outfiles\")\n",
    "    CACHE_SIZE = cache.value\n",
    "    NUM_LINES = lines.value\n",
    "    BLOCK_SIZE = block.value\n",
    "    \n",
    "    if(not CACHE_SIZE.isdigit() or not NUM_LINES.isdigit() or not BLOCK_SIZE.isdigit()):\n",
    "        print(\"Cache Lines, Lines to Output, and Block Size must be positive integers\")\n",
    "        return\n",
    "    \n",
    "    if(not path.isfile(INFILE_EXECUTABLE)):\n",
    "        print(\"Executable \\\"{}\\\" Not Found\".format(INFILE_EXECUTABLE))\n",
    "        return\n",
    "\n",
    "\n",
    "    \n",
    "    print(\"Running {} with Cache Lines={} and Block Size={}B for Number of Lines={}\".format(INFILE_EXECUTABLE, CACHE_SIZE, BLOCK_SIZE, NUM_LINES))\n",
    "    \n",
    "    args = [\n",
    "        PIN_DIRECTORY,\n",
    "        \"-ifeellucky\",\n",
    "        \"-injection\",\n",
    "        \"child\",\n",
    "        \"-t\",\n",
    "        TOOL_DIRECTORY,\n",
    "        \"-o\",\n",
    "        OUTFILE_DIRECTORY,\n",
    "        \"-c\",\n",
    "        CACHE_SIZE,\n",
    "        \"-m\",\n",
    "        NUM_LINES,\n",
    "        \"-l\",\n",
    "        BLOCK_SIZE,\n",
    "        \"--\",\n",
    "        INFILE_EXECUTABLE\n",
    "    ]\n",
    "    \n",
    "    \n",
    "    try:\n",
    "        df.close_files()\n",
    "    except:\n",
    "        pass\n",
    "    \n",
    "    #print(OUTFILE_DIRECTORY)\n",
    "    subprocess.run(args,capture_output=True)\n",
    "    #print(\"Finished sub\")\n",
    "\n",
    "    %run generateGraph.py\n",
    "    \n",
    "    \n",
    "    \n",
    "showFullDescription = {'description_width': '150px'}\n",
    "\n",
    "cache = Text(\n",
    "            value='4096',\n",
    "            placeholder='',\n",
    "            description='Cache Lines:',\n",
    "            style=showFullDescription,\n",
    "            layout= Layout(width='90%'),\n",
    "            disabled=False\n",
    "        )\n",
    "lines = Text(\n",
    "            value='1000000000',\n",
    "            placeholder='',\n",
    "            description='Lines to Output:',\n",
    "            style=showFullDescription,\n",
    "            layout= Layout(width='90%'),\n",
    "            disabled=False\n",
    "        )\n",
    "\n",
    "block = Text(\n",
    "            value='64',\n",
    "            placeholder='',\n",
    "            description='Block Size (Bytes):',\n",
    "            style=showFullDescription,\n",
    "            layout= Layout(width='90%'),\n",
    "            disabled=False\n",
    "        )\n",
    "\n",
    "infile = Text(\n",
    "            value='',\n",
    "            placeholder='',\n",
    "            description='Executable Path',\n",
    "            style=showFullDescription,\n",
    "            layout= Layout(width='90%'),\n",
    "            disabled=False\n",
    "        )\n",
    "\n",
    "run = Button(\n",
    "        description='Run',\n",
    "        disabled=False,\n",
    "        button_style='',\n",
    "        layout= Layout(margin='10px 0px 0px 0px', height='40px', width='90%', border='1px solid black'),\n",
    "        style={'button_color': 'lightgray'}\n",
    "    )\n",
    "\n",
    "\n",
    "inputs = VBox(\n",
    "            children=[cache, lines, block, infile, run],\n",
    "            layout=Layout(width=\"400px\")\n",
    "        )\n",
    "\n",
    "\n",
    "run.on_click(runTool)\n",
    "display(inputs)\n"
   ]
  },
  {
   "cell_type": "code",
   "execution_count": 8,
   "metadata": {},
   "outputs": [
    {
     "data": {
      "image/png": "[encoded data removed]",
      "text/plain": [
       "<Figure size 432x288 with 1 Axes>"
      ]
     },
     "metadata": {
      "needs_background": "light"
     },
     "output_type": "display_data"
    }
   ],
   "source": [
    "gradient = np.linspace(0, 1, 256)\n",
    "gradient = np.vstack((gradient, gradient))\n",
    "axes = plt.gca()\n",
    "axes.imshow(gradient, aspect='auto', cmap=plt.get_cmap('hot'))\n",
    "plt.show()"
   ]
  },
  {
   "cell_type": "code",
   "execution_count": null,
   "metadata": {},
   "outputs": [],
   "source": []
  }
 ],
 "metadata": {
  "kernelspec": {
   "display_name": "Python 3",
   "language": "python",
   "name": "python3"
  },
  "language_info": {
   "codemirror_mode": {
    "name": "ipython",
    "version": 3
   },
   "file_extension": ".py",
   "mimetype": "text/x-python",
   "name": "python",
   "nbconvert_exporter": "python",
   "pygments_lexer": "ipython3",
   "version": "3.7.6"
  }
 },
 "nbformat": 4,
 "nbformat_minor": 4
}
