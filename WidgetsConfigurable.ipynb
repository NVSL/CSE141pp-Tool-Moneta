{
 "cells": [
  {
   "cell_type": "code",
   "execution_count": 1,
   "metadata": {},
   "outputs": [],
   "source": [
    "import vaex\n",
    "import vaex.jupyter\n",
    "import numpy as np\n",
    "import pylab as plt\n",
    "df = vaex.example()"
   ]
  },
  {
   "cell_type": "code",
   "execution_count": 2,
   "metadata": {},
   "outputs": [
    {
     "data": {
      "application/vnd.jupyter.widget-view+json": {
       "model_id": "dd59685b1af5439fb60d398a7b1e6f7b",
       "version_major": 2,
       "version_minor": 0
      },
      "text/plain": [
       "Output()"
      ]
     },
     "metadata": {},
     "output_type": "display_data"
    }
   ],
   "source": [
    "selection = df.select(True)\n",
    "@vaex.jupyter.interactive_selection(df)\n",
    "def plot(*args, **kwargs):\n",
    "    df.plot(df.x, df.y, what=np.log(vaex.stat.count()+1), selection=True)\n",
    "    plt.show()"
   ]
  },
  {
   "cell_type": "code",
   "execution_count": 3,
   "metadata": {},
   "outputs": [],
   "source": [
    "df.select(df.x > 0)"
   ]
  },
  {
   "cell_type": "code",
   "execution_count": 4,
   "metadata": {},
   "outputs": [],
   "source": [
    "def display_radio():\n",
    "    import ipywidgets as widgets\n",
    "    radio = widgets.RadioButtons(\n",
    "        options=['x > 2', 'y < 2', 'x > 2 & y < 2'],\n",
    "        disabled=False\n",
    "    )\n",
    "    def handle(change):\n",
    "        if change['name'] == 'index':\n",
    "            if change.new==0:\n",
    "                df.select(df.x > 2)\n",
    "            elif change.new==1:\n",
    "                df.select(df.y < 2)\n",
    "            elif change.new==2:\n",
    "                df.select((df.x > 2) & (df.y < 2))\n",
    "\n",
    "    radio.observe(handle)\n",
    "    display(radio)"
   ]
  },
  {
   "cell_type": "code",
   "execution_count": 5,
   "metadata": {},
   "outputs": [
    {
     "data": {
      "application/vnd.jupyter.widget-view+json": {
       "model_id": "1ca8783598574df59e78f4dd1210b4a8",
       "version_major": 2,
       "version_minor": 0
      },
      "text/plain": [
       "RadioButtons(options=('x > 2', 'y < 2', 'x > 2 & y < 2'), value='x > 2')"
      ]
     },
     "metadata": {},
     "output_type": "display_data"
    }
   ],
   "source": [
    "display_radio()"
   ]
  },
  {
   "cell_type": "code",
   "execution_count": 6,
   "metadata": {},
   "outputs": [],
   "source": [
    "#df.plot_widget(df.x, df.y, [])\n",
    "#df.plot(df.x, df.y, f='log1p',figsize=(40,30))\n",
    "#df.plot(df.x, df.y)"
   ]
  },
  {
   "cell_type": "code",
   "execution_count": 7,
   "metadata": {},
   "outputs": [],
   "source": [
    "### Imports for the navigation\n",
    "from ipywidgets import Button, HBox, VBox,Layout, FloatSlider, interact, interactive\n",
    "import ipywidgets as widgets"
   ]
  },
  {
   "cell_type": "code",
   "execution_count": 8,
   "metadata": {},
   "outputs": [],
   "source": [
    "### Added very simple navigation\n",
    "def zoom_fun_gen(t):\n",
    "    x, y = t\n",
    "    def zoom_fun(b):\n",
    "        global xlim_l\n",
    "        global xlim_r\n",
    "        global ylim_d\n",
    "        global ylim_u\n",
    "        x_d = xlim_r - xlim_l\n",
    "        y_d = ylim_u - ylim_d\n",
    "        x_diff = x_d/3\n",
    "        y_diff = y_d/3\n",
    "        xlim_l+=x*x_diff # 0, 1, 2\n",
    "        xlim_r-=(2-x)*x_diff # 2, 1, 0\n",
    "        ylim_d+=y*y_diff # 0, 1, 2\n",
    "        ylim_u-=(2-y)*y_diff # 2, 1, 0\n",
    "        df.select(df.x > 0)\n",
    "    return zoom_fun"
   ]
  },
  {
   "cell_type": "code",
   "execution_count": 36,
   "metadata": {},
   "outputs": [],
   "source": [
    "xlim_l = -28\n",
    "xlim_r = 28\n",
    "ylim_d = -28\n",
    "ylim_u = 28\n",
    "x_c = 0\n",
    "y_c = 0\n",
    "dirs = ['zoom top left', 'zoom left', 'zoom bottom left', \n",
    "         'zoom top middle', 'zoom middle', 'zoom bottom middle',\n",
    "         'zoom top right',  'zoom right',  'zoom bottom right']\n",
    "dirs_n = [(0, 2), (0, 1), (0, 0), (1, 2), (1, 1), (1, 0), (2, 2), (2, 1), (2, 0)]\n",
    "buttons = [Button(description=d) for d in dirs]\n",
    "for i, b in enumerate(buttons):\n",
    "    b.on_click(zoom_fun_gen(dirs_n[i]))"
   ]
  },
  {
   "cell_type": "code",
   "execution_count": 10,
   "metadata": {},
   "outputs": [],
   "source": [
    "def reset(change):\n",
    "    global xlim_l\n",
    "    global xlim_r\n",
    "    global ylim_d\n",
    "    global ylim_u\n",
    "    xlim_l=-28\n",
    "    xlim_r=28\n",
    "    ylim_d = -28\n",
    "    ylim_u = 28\n",
    "    df.select(df.x > 0)\n",
    "resetb = Button(description=\"reset\")\n",
    "resetb.on_click(reset)\n",
    "percent_shift = .2\n",
    "def left_move(change):\n",
    "    global xlim_l\n",
    "    global xlim_r\n",
    "    global percent_shift\n",
    "    x_d = xlim_r - xlim_l\n",
    "    xlim_l-=percent_shift*x_d\n",
    "    xlim_r-=percent_shift*x_d\n",
    "    df.select(df.x > 0)\n",
    "    \n",
    "def right_move(change):\n",
    "    global xlim_l\n",
    "    global xlim_r\n",
    "    global percent_shift\n",
    "    x_d = xlim_r - xlim_l\n",
    "    xlim_l+=percent_shift*x_d\n",
    "    xlim_r+=percent_shift*x_d\n",
    "    df.select(df.x > 0)\n",
    "    \n",
    "def up_move(change):\n",
    "    global ylim_d\n",
    "    global ylim_u\n",
    "    global percent_shift\n",
    "    y_d = ylim_u - ylim_d\n",
    "    ylim_d+=percent_shift*y_d\n",
    "    ylim_u+=percent_shift*y_d\n",
    "    df.select(df.x > 0)\n",
    "    \n",
    "def down_move(change):\n",
    "    global ylim_d\n",
    "    global ylim_u\n",
    "    global percent_shift\n",
    "    y_d = ylim_u - ylim_d\n",
    "    ylim_d-=percent_shift*y_d\n",
    "    ylim_u-=percent_shift*y_d\n",
    "    df.select(df.x > 0)\n",
    "\n",
    "rightb = Button(description=\"right\")\n",
    "rightb.on_click(right_move)\n",
    "leftb = Button(description=\"left\")\n",
    "leftb.on_click(left_move)\n",
    "upb = Button(description=\"up\")\n",
    "upb.on_click(up_move)\n",
    "downb = Button(description=\"down\")\n",
    "downb.on_click(down_move)"
   ]
  },
  {
   "cell_type": "code",
   "execution_count": 11,
   "metadata": {},
   "outputs": [
    {
     "data": {
      "application/vnd.jupyter.widget-view+json": {
       "model_id": "055ff61efd474c0eb8a4a17f699b2092",
       "version_major": 2,
       "version_minor": 0
      },
      "text/plain": [
       "HBox(children=(VBox(children=(Button(description='zoom top left', style=ButtonStyle()), Button(description='zo…"
      ]
     },
     "metadata": {},
     "output_type": "display_data"
    },
    {
     "data": {
      "application/vnd.jupyter.widget-view+json": {
       "model_id": "9740a49c0dd949d0bd4c328934aad453",
       "version_major": 2,
       "version_minor": 0
      },
      "text/plain": [
       "Button(description='reset', style=ButtonStyle())"
      ]
     },
     "metadata": {},
     "output_type": "display_data"
    },
    {
     "data": {
      "application/vnd.jupyter.widget-view+json": {
       "model_id": "dac17338a83c49d7817352befe23c0b0",
       "version_major": 2,
       "version_minor": 0
      },
      "text/plain": [
       "HBox(children=(Button(description='left', style=ButtonStyle()), Button(description='right', style=ButtonStyle(…"
      ]
     },
     "metadata": {},
     "output_type": "display_data"
    }
   ],
   "source": [
    "left_col   = VBox([button for button in buttons[:3]])\n",
    "middle_col = VBox([button for button in buttons[3:6]])\n",
    "right_col  = VBox([button for button in buttons[6:]])\n",
    "\n",
    "display(HBox([left_col, middle_col, right_col]))\n",
    "display(resetb)\n",
    "display(HBox([leftb, rightb, VBox([upb, downb])]))"
   ]
  },
  {
   "cell_type": "code",
   "execution_count": 12,
   "metadata": {},
   "outputs": [
    {
     "data": {
      "application/vnd.jupyter.widget-view+json": {
       "model_id": "c3b6829c43d94aa58ed357c2f6e64389",
       "version_major": 2,
       "version_minor": 0
      },
      "text/plain": [
       "Output()"
      ]
     },
     "metadata": {},
     "output_type": "display_data"
    }
   ],
   "source": [
    "selection = df.select(True)\n",
    "@vaex.jupyter.interactive_selection(df)\n",
    "def plot(*args, **kwargs):\n",
    "    df.plot(df.x, df.y, what=np.log(vaex.stat.count()+1), limits = [[xlim_l,xlim_r],[ylim_d,ylim_u]], selection=False)\n",
    "    #plt.xlim(xlim_l, xlim_r)\n",
    "    #plt.ylim(ylim_d, ylim_u)\n",
    "    plt.show()"
   ]
  },
  {
   "cell_type": "code",
   "execution_count": 13,
   "metadata": {},
   "outputs": [],
   "source": [
    "df.select(df.x)"
   ]
  },
  {
   "cell_type": "code",
   "execution_count": 21,
   "metadata": {},
   "outputs": [
    {
     "data": {
      "application/vnd.jupyter.widget-view+json": {
       "model_id": "0c41135d030b4492bebdc059ceb8d70f",
       "version_major": 2,
       "version_minor": 0
      },
      "text/plain": [
       "HBox(children=(VBox(children=(Button(description='zoom top left', style=ButtonStyle()), Button(description='zo…"
      ]
     },
     "metadata": {},
     "output_type": "display_data"
    },
    {
     "data": {
      "application/vnd.jupyter.widget-view+json": {
       "model_id": "9740a49c0dd949d0bd4c328934aad453",
       "version_major": 2,
       "version_minor": 0
      },
      "text/plain": [
       "Button(description='reset', style=ButtonStyle())"
      ]
     },
     "metadata": {},
     "output_type": "display_data"
    },
    {
     "data": {
      "application/vnd.jupyter.widget-view+json": {
       "model_id": "d2cb092138974f399e8192aacf2985a7",
       "version_major": 2,
       "version_minor": 0
      },
      "text/plain": [
       "HBox(children=(Button(description='left', style=ButtonStyle()), Button(description='right', style=ButtonStyle(…"
      ]
     },
     "metadata": {},
     "output_type": "display_data"
    }
   ],
   "source": [
    "left_col   = VBox([button for button in buttons[:3]])\n",
    "middle_col = VBox([button for button in buttons[3:6]])\n",
    "right_col  = VBox([button for button in buttons[6:]])\n",
    "\n",
    "display(HBox([left_col, middle_col, right_col]))\n",
    "display(resetb)\n",
    "display(HBox([leftb, rightb, VBox([upb, downb])]))"
   ]
  },
  {
   "cell_type": "code",
   "execution_count": 37,
   "metadata": {},
   "outputs": [],
   "source": [
    "def zoom_in(b):\n",
    "    global xlim_l\n",
    "    global xlim_r\n",
    "    global ylim_d\n",
    "    global ylim_u\n",
    "    global x_c\n",
    "    global y_c\n",
    "    #x_c = (xlim_r + xlim_l)/2\n",
    "    #y_c = (ylim_u + ylim_d)/2\n",
    "    x_rad = xlim_r - x_c\n",
    "    y_rad = ylim_u - y_c\n",
    "    x_rad_new = x_rad / zoom_size\n",
    "    y_rad_new = x_rad / zoom_size\n",
    "    xlim_l = x_c - x_rad_new\n",
    "    xlim_r = x_c + x_rad_new\n",
    "    ylim_d = y_c - y_rad_new\n",
    "    ylim_u = y_c + y_rad_new\n",
    "    df.select(df.x > 0)\n",
    "def zoom_out(b):\n",
    "    global xlim_l\n",
    "    global xlim_r\n",
    "    global ylim_d\n",
    "    global ylim_u\n",
    "    global x_c\n",
    "    global y_c\n",
    "    #x_c = (xlim_r + xlim_l)/2\n",
    "    #y_c = (ylim_u + ylim_d)/2\n",
    "    x_rad = xlim_r - x_c\n",
    "    y_rad = ylim_u - y_c\n",
    "    x_rad_new = x_rad * zoom_size\n",
    "    y_rad_new = x_rad * zoom_size\n",
    "    xlim_l = x_c - x_rad_new\n",
    "    xlim_r = x_c + x_rad_new\n",
    "    ylim_d = y_c - y_rad_new\n",
    "    ylim_u = y_c + y_rad_new\n",
    "    df.select(df.x > 0)\n",
    "\n",
    "buttonReset = Button(description=\"reset\",layout=Layout(width=\"50px\"))\n",
    "buttonReset.on_click(reset)\n",
    "buttonZoomOut = Button(description='-',layout=Layout(width=\"50px\"))\n",
    "buttonZoomOut.on_click(zoom_out);\n",
    "buttonZoomIn = Button(description='+',layout=Layout(width=\"50px\"))\n",
    "buttonZoomIn.on_click(zoom_in);\n",
    "buttonPanUp = Button(description=u'\\u2191', layout=Layout(width=\"50px\"))\n",
    "buttonPanDown = Button(description=u'\\u2193', layout=Layout(width=\"50px\"))\n",
    "buttonPanRight = Button(description=u'\\u2192', layout=Layout(width=\"50px\"))\n",
    "buttonPanLeft = Button(description=u'\\u2190', layout=Layout(width=\"50px\"))\n",
    "buttonPanRight.on_click(right_move)\n",
    "buttonPanLeft.on_click(left_move)\n",
    "buttonPanUp.on_click(up_move)\n",
    "buttonPanDown.on_click(down_move)\n",
    "\n",
    "def updateZoomSize(b):\n",
    "    global zoom_size\n",
    "    zoom_size = b;\n",
    "def updatePanSize(b):\n",
    "    global percent_shift\n",
    "    percent_shift = b;\n",
    "inputPanSize = interactive(updatePanSize, b=FloatSlider(value=0.2, min=0.05, max=0.5,step=0.05,description='Pan %'));\n",
    "inputZoomSize = interactive(updateZoomSize, b=FloatSlider(value=1.2, min=1.2, max=4.0,step=0.2,description='Zoom %'));\n",
    "\n",
    "nav_buttons = HBox([buttonPanLeft,buttonPanUp,buttonPanDown,buttonPanRight,buttonZoomIn,buttonZoomOut,buttonReset])\n",
    "nav_input = HBox([inputZoomSize, inputPanSize])\n",
    "nav_controls = VBox([nav_buttons, nav_input])\n",
    "#display(nav_controls)\n"
   ]
  },
  {
   "cell_type": "code",
   "execution_count": 42,
   "metadata": {
    "scrolled": false
   },
   "outputs": [
    {
     "data": {
      "application/vnd.jupyter.widget-view+json": {
       "model_id": "e62ffcc29f354ee1adee0f49031199f8",
       "version_major": 2,
       "version_minor": 0
      },
      "text/plain": [
       "Output()"
      ]
     },
     "metadata": {},
     "output_type": "display_data"
    }
   ],
   "source": [
    "@vaex.jupyter.interactive_selection(df)\n",
    "def plot(*args, **kwargs):\n",
    "    global a\n",
    "    #df.plot(df.x, df.y, what=np.log(vaex.stat.count()+1), limits = [[xlim_l,xlim_r],[ylim_d,ylim_u]], selection=False)\n",
    "    a = df.plot(df.x, df.y, limits = [[xlim_l,xlim_r],[ylim_d,ylim_u]], selection=True)\n",
    "    plt.show()\n",
    "    display(nav_controls)"
   ]
  },
  {
   "cell_type": "code",
   "execution_count": 35,
   "metadata": {},
   "outputs": [],
   "source": [
    "plt.show()"
   ]
  },
  {
   "cell_type": "code",
   "execution_count": null,
   "metadata": {},
   "outputs": [],
   "source": []
  }
 ],
 "metadata": {
  "kernelspec": {
   "display_name": "Python 3",
   "language": "python",
   "name": "python3"
  },
  "language_info": {
   "codemirror_mode": {
    "name": "ipython",
    "version": 3
   },
   "file_extension": ".py",
   "mimetype": "text/x-python",
   "name": "python",
   "nbconvert_exporter": "python",
   "pygments_lexer": "ipython3",
   "version": "3.7.6"
  }
 },
 "nbformat": 4,
 "nbformat_minor": 4
}
