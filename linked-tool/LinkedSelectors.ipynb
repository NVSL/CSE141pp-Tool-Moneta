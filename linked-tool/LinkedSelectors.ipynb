{
 "cells": [
  {
   "cell_type": "code",
   "execution_count": 10,
   "metadata": {},
   "outputs": [
    {
     "data": {
      "application/vnd.jupyter.widget-view+json": {
       "model_id": "7e199f58358e418e841f4bc17f00a726",
       "version_major": 2,
       "version_minor": 0
      },
      "text/plain": [
       "VBox(children=(Text(value='4096', description='Cache Lines:', layout=Layout(width='90%'), placeholder='', styl…"
      ]
     },
     "metadata": {},
     "output_type": "display_data"
    },
    {
     "name": "stdout",
     "output_type": "stream",
     "text": [
      "Running ../a.out with Cache Lines=4096 and Block Size=64B for Number of Lines=1000000000\n"
     ]
    },
    {
     "data": {
      "application/vnd.jupyter.widget-view+json": {
       "model_id": "7708d8def0b64a249b919a56519a4c73",
       "version_major": 2,
       "version_minor": 0
      },
      "text/plain": [
       "PlotTemplate(components={'main-widget': VBox(children=(VBox(children=(Figure(axes=[Axis(color='#666', grid_col…"
      ]
     },
     "metadata": {},
     "output_type": "display_data"
    },
    {
     "data": {
      "application/vnd.jupyter.widget-view+json": {
       "model_id": "b1a1585454f642bd99bef4fe824073ab",
       "version_major": 2,
       "version_minor": 0
      },
      "text/plain": [
       "HBox(children=(VBox(children=(Checkbox(value=True, description='d', indent=False),)), VBox(children=(Checkbox(…"
      ]
     },
     "metadata": {},
     "output_type": "display_data"
    }
   ],
   "source": [
    "import subprocess\n",
    "import os\n",
    "from os import path\n",
    "import ipywidgets as widgets\n",
    "from ipywidgets import Text, Button, VBox, HBox, Layout, Checkbox\n",
    "from IPython.display import clear_output\n",
    "import vaex\n",
    "import vaex.jupyter\n",
    "import numpy as np\n",
    "import pylab as plt\n",
    "\n",
    "\n",
    "def runTool(button):\n",
    "    clear_output(wait=True)\n",
    "    display(inputs)\n",
    "    \n",
    "    \n",
    "    #Args for PIN\n",
    "    PIN_DIRECTORY = \"/setup/pintool/pin.sh\"\n",
    "    TOOL_DIRECTORY = \"/setup/converter/trace_tool.so\"\n",
    "    INFILE_EXECUTABLE = path.expanduser(infile.value)\n",
    "    OUTFILE_DIRECTORY = path.expanduser(\"/setup/converter/outfiles\")\n",
    "    CACHE_SIZE = cache.value\n",
    "    NUM_LINES = lines.value\n",
    "    BLOCK_SIZE = block.value\n",
    "    \n",
    "    if(not CACHE_SIZE.isdigit() or not NUM_LINES.isdigit() or not BLOCK_SIZE.isdigit()):\n",
    "        print(\"Cache Lines, Lines to Output, and Block Size must be positive integers\")\n",
    "        return\n",
    "    \n",
    "    if(not path.isfile(INFILE_EXECUTABLE)):\n",
    "        print(\"Executable \\\"{}\\\" Not Found\".format(INFILE_EXECUTABLE))\n",
    "        return\n",
    "\n",
    "\n",
    "    \n",
    "    print(\"Running {} with Cache Lines={} and Block Size={}B for Number of Lines={}\".format(INFILE_EXECUTABLE, CACHE_SIZE, BLOCK_SIZE, NUM_LINES))\n",
    "    \n",
    "    args = [\n",
    "        PIN_DIRECTORY,\n",
    "        \"-ifeellucky\",\n",
    "        \"-injection\",\n",
    "        \"child\",\n",
    "        \"-t\",\n",
    "        TOOL_DIRECTORY,\n",
    "        \"-o\",\n",
    "        OUTFILE_DIRECTORY,\n",
    "        \"-c\",\n",
    "        CACHE_SIZE,\n",
    "        \"-m\",\n",
    "        NUM_LINES,\n",
    "        \"-l\",\n",
    "        BLOCK_SIZE,\n",
    "        \"--\",\n",
    "        INFILE_EXECUTABLE\n",
    "    ]\n",
    "    \n",
    "    \n",
    "    try:\n",
    "        df.close_files()\n",
    "    except:\n",
    "        pass\n",
    "    \n",
    "    subprocess.run(args,capture_output=True)\n",
    "\n",
    "    %run generateGraph.py\n",
    "    \n",
    "    \n",
    "    \n",
    "showFullDescription = {'description_width': '150px'}\n",
    "\n",
    "cache = Text(\n",
    "            value='4096',\n",
    "            placeholder='',\n",
    "            description='Cache Lines:',\n",
    "            style=showFullDescription,\n",
    "            layout= Layout(width='90%'),\n",
    "            disabled=False\n",
    "        )\n",
    "lines = Text(\n",
    "            value='1000000000',\n",
    "            placeholder='',\n",
    "            description='Lines to Output:',\n",
    "            style=showFullDescription,\n",
    "            layout= Layout(width='90%'),\n",
    "            disabled=False\n",
    "        )\n",
    "\n",
    "block = Text(\n",
    "            value='64',\n",
    "            placeholder='',\n",
    "            description='Block Size (Bytes):',\n",
    "            style=showFullDescription,\n",
    "            layout= Layout(width='90%'),\n",
    "            disabled=False\n",
    "        )\n",
    "\n",
    "infile = Text(\n",
    "            value='',\n",
    "            placeholder='',\n",
    "            description='Executable Path',\n",
    "            style=showFullDescription,\n",
    "            layout= Layout(width='90%'),\n",
    "            disabled=False\n",
    "        )\n",
    "\n",
    "run = Button(\n",
    "        description='Run',\n",
    "        disabled=False,\n",
    "        button_style='',\n",
    "        layout= Layout(margin='10px 0px 0px 0px', height='40px', width='90%', border='1px solid black'),\n",
    "        style={'button_color': 'lightgray'}\n",
    "    )\n",
    "\n",
    "\n",
    "inputs = VBox(\n",
    "            children=[cache, lines, block, infile, run],\n",
    "            layout=Layout(width=\"400px\")\n",
    "        )\n",
    "\n",
    "\n",
    "run.on_click(runTool)\n",
    "display(inputs)\n"
   ]
  },
  {
   "cell_type": "code",
   "execution_count": null,
   "metadata": {},
   "outputs": [],
   "source": []
  }
 ],
 "metadata": {
  "kernelspec": {
   "display_name": "Python 3",
   "language": "python",
   "name": "python3"
  },
  "language_info": {
   "codemirror_mode": {
    "name": "ipython",
    "version": 3
   },
   "file_extension": ".py",
   "mimetype": "text/x-python",
   "name": "python",
   "nbconvert_exporter": "python",
   "pygments_lexer": "ipython3",
   "version": "3.7.6"
  }
 },
 "nbformat": 4,
 "nbformat_minor": 4
}
