{
 "cells": [
  {
   "cell_type": "code",
   "execution_count": 1,
   "metadata": {},
   "outputs": [],
   "source": [
    "import vaex\n",
    "import vaex.jupyter\n",
    "import numpy as np\n",
    "import pylab as plt\n",
    "df = vaex.example()"
   ]
  },
  {
   "cell_type": "code",
   "execution_count": 2,
   "metadata": {},
   "outputs": [
    {
     "data": {
      "application/vnd.jupyter.widget-view+json": {
       "model_id": "f1c6aa29a2b040fca8f6d2a53583569e",
       "version_major": 2,
       "version_minor": 0
      },
      "text/plain": [
       "Output()"
      ]
     },
     "metadata": {},
     "output_type": "display_data"
    }
   ],
   "source": [
    "selection = df.select(True)\n",
    "@vaex.jupyter.interactive_selection(df)\n",
    "def plot(*args, **kwargs):\n",
    "    df.plot(df.x, df.y, what=np.log(vaex.stat.count()+1), selection=True)\n",
    "    plt.show()"
   ]
  },
  {
   "cell_type": "code",
   "execution_count": 5,
   "metadata": {},
   "outputs": [],
   "source": [
    "df.select(df.x > 0)"
   ]
  },
  {
   "cell_type": "code",
   "execution_count": 7,
   "metadata": {},
   "outputs": [],
   "source": [
    "def display_radio():\n",
    "    import ipywidgets as widgets\n",
    "    radio = widgets.RadioButtons(\n",
    "        options=['x > 2', 'y < 2', 'x > 2 & y < 2'],\n",
    "        disabled=False\n",
    "    )\n",
    "    def handle(change):\n",
    "        if change['name'] == 'index':\n",
    "            if change.new==0:\n",
    "                df.select(df.x > 2)\n",
    "            elif change.new==1:\n",
    "                df.select(df.y < 2)\n",
    "            elif change.new==2:\n",
    "                df.select((df.x > 2) & (df.y < 2))\n",
    "\n",
    "    radio.observe(handle)\n",
    "    display(radio)"
   ]
  },
  {
   "cell_type": "code",
   "execution_count": 8,
   "metadata": {},
   "outputs": [
    {
     "data": {
      "application/vnd.jupyter.widget-view+json": {
       "model_id": "288d3dda302f4f66a8e09be74580c83d",
       "version_major": 2,
       "version_minor": 0
      },
      "text/plain": [
       "RadioButtons(options=('x > 2', 'y < 2', 'x > 2 & y < 2'), value='x > 2')"
      ]
     },
     "metadata": {},
     "output_type": "display_data"
    }
   ],
   "source": [
    "display_radio()"
   ]
  },
  {
   "cell_type": "code",
   "execution_count": 34,
   "metadata": {},
   "outputs": [],
   "source": [
    "#df.plot_widget(df.x, df.y, [])\n",
    "#df.plot(df.x, df.y, f='log1p',figsize=(40,30))\n",
    "#df.plot(df.x, df.y)"
   ]
  }
 ],
 "metadata": {
  "kernelspec": {
   "display_name": "Python 3",
   "language": "python",
   "name": "python3"
  },
  "language_info": {
   "codemirror_mode": {
    "name": "ipython",
    "version": 3
   },
   "file_extension": ".py",
   "mimetype": "text/x-python",
   "name": "python",
   "nbconvert_exporter": "python",
   "pygments_lexer": "ipython3",
   "version": "3.7.6"
  }
 },
 "nbformat": 4,
 "nbformat_minor": 4
}
