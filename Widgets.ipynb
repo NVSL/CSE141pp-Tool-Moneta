{
 "cells": [
  {
   "cell_type": "code",
   "execution_count": 1,
   "metadata": {},
   "outputs": [],
   "source": [
    "import vaex\n",
    "import vaex.jupyter\n",
    "import numpy as np\n",
    "import pylab as plt\n",
    "import matplotlib.pyplot as plt\n",
    "#import ipywidgets as widgets\n",
    "#from ipywidgets import Checkbox, VBox, HBox\n",
    "#import vaex\n",
    "#import vaex.jupyter\n",
    "#import numpy as np\n",
    "#import pylab as plt"
   ]
  },
  {
   "cell_type": "code",
   "execution_count": null,
   "metadata": {},
   "outputs": [],
   "source": [
    "df = vaex.example()"
   ]
  },
  {
   "cell_type": "code",
   "execution_count": null,
   "metadata": {},
   "outputs": [],
   "source": [
    "selection = df.select(True)\n",
    "@vaex.jupyter.interactive_selection(df)\n",
    "def plot(*args, **kwargs):\n",
    "    df.plot(df.x, df.y, what=np.log(vaex.stat.count()+1), selection=True)\n",
    "    plt.show()"
   ]
  },
  {
   "cell_type": "code",
   "execution_count": null,
   "metadata": {},
   "outputs": [],
   "source": [
    "df.select(df.x > 0)"
   ]
  },
  {
   "cell_type": "code",
   "execution_count": null,
   "metadata": {},
   "outputs": [],
   "source": [
    "def display_radio():\n",
    "    import ipywidgets as widgets\n",
    "    radio = widgets.RadioButtons(\n",
    "        options=['x > 2', 'y < 2', 'x > 2 & y < 2'],\n",
    "        disabled=False\n",
    "    )\n",
    "    def handle(change):\n",
    "        if change['name'] == 'index':\n",
    "            if change.new==0:\n",
    "                df.select(df.x > 2)\n",
    "            elif change.new==1:\n",
    "                df.select(df.y < 2)\n",
    "            elif change.new==2:\n",
    "                df.select((df.x > 2) & (df.y < 2))\n",
    "\n",
    "    radio.observe(handle)\n",
    "    display(radio)"
   ]
  },
  {
   "cell_type": "code",
   "execution_count": null,
   "metadata": {},
   "outputs": [],
   "source": [
    "display_radio()"
   ]
  },
  {
   "cell_type": "code",
   "execution_count": null,
   "metadata": {},
   "outputs": [],
   "source": [
    "#df.plot_widget(df.x, df.y, [])\n",
    "#df.plot(df.x, df.y, f='log1p',figsize=(40,30))\n",
    "#df.plot(df.x, df.y)"
   ]
  },
  {
   "cell_type": "code",
   "execution_count": null,
   "metadata": {},
   "outputs": [],
   "source": [
    "### Imports for the navigation\n",
    "from ipywidgets import Button, HBox, VBox\n",
    "import ipywidgets as widgets"
   ]
  },
  {
   "cell_type": "code",
   "execution_count": null,
   "metadata": {},
   "outputs": [],
   "source": [
    "### Added very simple navigation\n",
    "def zoom_fun_gen(t):\n",
    "    x, y = t\n",
    "    def zoom_fun(b):\n",
    "        global xlim_l\n",
    "        global xlim_r\n",
    "        global ylim_d\n",
    "        global ylim_u\n",
    "        x_d = xlim_r - xlim_l\n",
    "        y_d = ylim_u - ylim_d\n",
    "        x_diff = x_d/3\n",
    "        y_diff = y_d/3\n",
    "        xlim_l+=x*x_diff # 0, 1, 2\n",
    "        xlim_r-=(2-x)*x_diff # 2, 1, 0\n",
    "        ylim_d+=y*y_diff # 0, 1, 2\n",
    "        ylim_u-=(2-y)*y_diff # 2, 1, 0\n",
    "        df.select(df.x > 0)\n",
    "    return zoom_fun"
   ]
  },
  {
   "cell_type": "code",
   "execution_count": null,
   "metadata": {},
   "outputs": [],
   "source": [
    "xlim_l = -28\n",
    "xlim_r = 28\n",
    "ylim_d = -28\n",
    "ylim_u = 28\n",
    "dirs = ['zoom top left', 'zoom left', 'zoom bottom left', \n",
    "         'zoom top middle', 'zoom middle', 'zoom bottom middle',\n",
    "         'zoom top right',  'zoom right',  'zoom bottom right']\n",
    "dirs_n = [(0, 2), (0, 1), (0, 0), (1, 2), (1, 1), (1, 0), (2, 2), (2, 1), (2, 0)]\n",
    "buttons = [Button(description=d) for d in dirs]\n",
    "for i, b in enumerate(buttons):\n",
    "    b.on_click(zoom_fun_gen(dirs_n[i]))"
   ]
  },
  {
   "cell_type": "code",
   "execution_count": null,
   "metadata": {},
   "outputs": [],
   "source": [
    "def reset(change):\n",
    "    global xlim_l\n",
    "    global xlim_r\n",
    "    global ylim_d\n",
    "    global ylim_u\n",
    "    xlim_l=-28\n",
    "    xlim_r=28\n",
    "    ylim_d = -28\n",
    "    ylim_u = 28\n",
    "    df.select(df.x > 0)\n",
    "resetb = Button(description=\"reset\")\n",
    "resetb.on_click(reset)\n",
    "percent_shift = .2\n",
    "def left_move(change):\n",
    "    global xlim_l\n",
    "    global xlim_r\n",
    "    x_d = xlim_r - xlim_l\n",
    "    xlim_l-=percent_shift*x_d\n",
    "    xlim_r-=percent_shift*x_d\n",
    "    df.select(df.x > 0)\n",
    "    \n",
    "def right_move(change):\n",
    "    global xlim_l\n",
    "    global xlim_r\n",
    "    x_d = xlim_r - xlim_l\n",
    "    xlim_l+=percent_shift*x_d\n",
    "    xlim_r+=percent_shift*x_d\n",
    "    df.select(df.x > 0)\n",
    "    \n",
    "def up_move(change):\n",
    "    global ylim_d\n",
    "    global ylim_u\n",
    "    y_d = ylim_u - ylim_d\n",
    "    ylim_d+=percent_shift*y_d\n",
    "    ylim_u+=percent_shift*y_d\n",
    "    df.select(df.x > 0)\n",
    "    \n",
    "def down_move(change):\n",
    "    global ylim_d\n",
    "    global ylim_u\n",
    "    y_d = ylim_u - ylim_d\n",
    "    ylim_d-=percent_shift*y_d\n",
    "    ylim_u-=percent_shift*y_d\n",
    "    df.select(df.x > 0)\n",
    "\n",
    "rightb = Button(description=\"right\")\n",
    "rightb.on_click(right_move)\n",
    "leftb = Button(description=\"left\")\n",
    "leftb.on_click(left_move)\n",
    "upb = Button(description=\"up\")\n",
    "upb.on_click(up_move)\n",
    "downb = Button(description=\"down\")\n",
    "downb.on_click(down_move)"
   ]
  },
  {
   "cell_type": "code",
   "execution_count": null,
   "metadata": {},
   "outputs": [],
   "source": [
    "left_col   = VBox([button for button in buttons[:3]])\n",
    "middle_col = VBox([button for button in buttons[3:6]])\n",
    "right_col  = VBox([button for button in buttons[6:]])\n",
    "\n",
    "display(HBox([left_col, middle_col, right_col]))\n",
    "display(resetb)\n",
    "display(HBox([leftb, rightb, VBox([upb, downb])]))"
   ]
  },
  {
   "cell_type": "code",
   "execution_count": null,
   "metadata": {},
   "outputs": [],
   "source": [
    "selection = df.select(True)\n",
    "@vaex.jupyter.interactive_selection(df)\n",
    "def plot(*args, **kwargs):\n",
    "    df.plot(df.x, df.y, what=np.log(vaex.stat.count()+1), selection=False)\n",
    "    plt.xlim(xlim_l, xlim_r)\n",
    "    plt.ylim(ylim_d, ylim_u)\n",
    "    plt.show()"
   ]
  },
  {
   "cell_type": "code",
   "execution_count": 7,
   "metadata": {},
   "outputs": [],
   "source": [
    "vdf = vaex.open('trace.hdf5')"
   ]
  },
  {
   "cell_type": "code",
   "execution_count": 8,
   "metadata": {},
   "outputs": [
    {
     "data": {
      "text/html": [
       "<table>\n",
       "<thead>\n",
       "<tr><th>#                                     </th><th>Access  </th><th>Address  </th><th>Tag  </th></tr>\n",
       "</thead>\n",
       "<tbody>\n",
       "<tr><td>&lt;i style=&#x27;opacity: 0.6&#x27;&gt;0&lt;/i&gt;         </td><td>4       </td><td>0        </td><td>0    </td></tr>\n",
       "<tr><td>&lt;i style=&#x27;opacity: 0.6&#x27;&gt;1&lt;/i&gt;         </td><td>16      </td><td>8        </td><td>0    </td></tr>\n",
       "<tr><td>&lt;i style=&#x27;opacity: 0.6&#x27;&gt;2&lt;/i&gt;         </td><td>16      </td><td>16       </td><td>0    </td></tr>\n",
       "<tr><td>&lt;i style=&#x27;opacity: 0.6&#x27;&gt;3&lt;/i&gt;         </td><td>16      </td><td>24       </td><td>0    </td></tr>\n",
       "<tr><td>&lt;i style=&#x27;opacity: 0.6&#x27;&gt;4&lt;/i&gt;         </td><td>16      </td><td>32       </td><td>0    </td></tr>\n",
       "<tr><td>...                                   </td><td>...     </td><td>...      </td><td>...  </td></tr>\n",
       "<tr><td>&lt;i style=&#x27;opacity: 0.6&#x27;&gt;89,999,995&lt;/i&gt;</td><td>16      </td><td>160175960</td><td>1    </td></tr>\n",
       "<tr><td>&lt;i style=&#x27;opacity: 0.6&#x27;&gt;89,999,996&lt;/i&gt;</td><td>32      </td><td>79935960 </td><td>0    </td></tr>\n",
       "<tr><td>&lt;i style=&#x27;opacity: 0.6&#x27;&gt;89,999,997&lt;/i&gt;</td><td>16      </td><td>160175968</td><td>1    </td></tr>\n",
       "<tr><td>&lt;i style=&#x27;opacity: 0.6&#x27;&gt;89,999,998&lt;/i&gt;</td><td>32      </td><td>80015976 </td><td>0    </td></tr>\n",
       "<tr><td>&lt;i style=&#x27;opacity: 0.6&#x27;&gt;89,999,999&lt;/i&gt;</td><td>16      </td><td>160175976</td><td>1    </td></tr>\n",
       "</tbody>\n",
       "</table>"
      ],
      "text/plain": [
       "#           Access    Address    Tag\n",
       "0           4         0          0\n",
       "1           16        8          0\n",
       "2           16        16         0\n",
       "3           16        24         0\n",
       "4           16        32         0\n",
       "...         ...       ...        ...\n",
       "89,999,995  16        160175960  1\n",
       "89,999,996  32        79935960   0\n",
       "89,999,997  16        160175968  1\n",
       "89,999,998  32        80015976   0\n",
       "89,999,999  16        160175976  1"
      ]
     },
     "execution_count": 8,
     "metadata": {},
     "output_type": "execute_result"
    }
   ],
   "source": [
    "vdf"
   ]
  },
  {
   "cell_type": "code",
   "execution_count": 9,
   "metadata": {},
   "outputs": [],
   "source": [
    "vdf['index'] = np.arange(0, vdf.Address.count())\n"
   ]
  },
  {
   "cell_type": "code",
   "execution_count": 10,
   "metadata": {},
   "outputs": [
    {
     "data": {
      "text/html": [
       "<table>\n",
       "<thead>\n",
       "<tr><th>#                                     </th><th>Access  </th><th>Address  </th><th>Tag  </th><th>index   </th></tr>\n",
       "</thead>\n",
       "<tbody>\n",
       "<tr><td>&lt;i style=&#x27;opacity: 0.6&#x27;&gt;0&lt;/i&gt;         </td><td>4       </td><td>0        </td><td>0    </td><td>0       </td></tr>\n",
       "<tr><td>&lt;i style=&#x27;opacity: 0.6&#x27;&gt;1&lt;/i&gt;         </td><td>16      </td><td>8        </td><td>0    </td><td>1       </td></tr>\n",
       "<tr><td>&lt;i style=&#x27;opacity: 0.6&#x27;&gt;2&lt;/i&gt;         </td><td>16      </td><td>16       </td><td>0    </td><td>2       </td></tr>\n",
       "<tr><td>&lt;i style=&#x27;opacity: 0.6&#x27;&gt;3&lt;/i&gt;         </td><td>16      </td><td>24       </td><td>0    </td><td>3       </td></tr>\n",
       "<tr><td>&lt;i style=&#x27;opacity: 0.6&#x27;&gt;4&lt;/i&gt;         </td><td>16      </td><td>32       </td><td>0    </td><td>4       </td></tr>\n",
       "<tr><td>...                                   </td><td>...     </td><td>...      </td><td>...  </td><td>...     </td></tr>\n",
       "<tr><td>&lt;i style=&#x27;opacity: 0.6&#x27;&gt;89,999,995&lt;/i&gt;</td><td>16      </td><td>160175960</td><td>1    </td><td>89999995</td></tr>\n",
       "<tr><td>&lt;i style=&#x27;opacity: 0.6&#x27;&gt;89,999,996&lt;/i&gt;</td><td>32      </td><td>79935960 </td><td>0    </td><td>89999996</td></tr>\n",
       "<tr><td>&lt;i style=&#x27;opacity: 0.6&#x27;&gt;89,999,997&lt;/i&gt;</td><td>16      </td><td>160175968</td><td>1    </td><td>89999997</td></tr>\n",
       "<tr><td>&lt;i style=&#x27;opacity: 0.6&#x27;&gt;89,999,998&lt;/i&gt;</td><td>32      </td><td>80015976 </td><td>0    </td><td>89999998</td></tr>\n",
       "<tr><td>&lt;i style=&#x27;opacity: 0.6&#x27;&gt;89,999,999&lt;/i&gt;</td><td>16      </td><td>160175976</td><td>1    </td><td>89999999</td></tr>\n",
       "</tbody>\n",
       "</table>"
      ],
      "text/plain": [
       "#           Access    Address    Tag    index\n",
       "0           4         0          0      0\n",
       "1           16        8          0      1\n",
       "2           16        16         0      2\n",
       "3           16        24         0      3\n",
       "4           16        32         0      4\n",
       "...         ...       ...        ...    ...\n",
       "89,999,995  16        160175960  1      89999995\n",
       "89,999,996  32        79935960   0      89999996\n",
       "89,999,997  16        160175968  1      89999997\n",
       "89,999,998  32        80015976   0      89999998\n",
       "89,999,999  16        160175976  1      89999999"
      ]
     },
     "execution_count": 10,
     "metadata": {},
     "output_type": "execute_result"
    }
   ],
   "source": [
    "vdf"
   ]
  },
  {
   "cell_type": "code",
   "execution_count": null,
   "metadata": {},
   "outputs": [],
   "source": [
    "st = 501000\n",
    "vdf[st:st+10]"
   ]
  },
  {
   "cell_type": "code",
   "execution_count": 6,
   "metadata": {},
   "outputs": [
    {
     "data": {
      "application/vnd.jupyter.widget-view+json": {
       "model_id": "fac10bc134414a4a91be38a42a4137cd",
       "version_major": 2,
       "version_minor": 0
      },
      "text/plain": [
       "PlotTemplate(components={'main-widget': VBox(children=(VBox(children=(Figure(axes=[Axis(color='#666', grid_col…"
      ]
     },
     "metadata": {},
     "output_type": "display_data"
    },
    {
     "data": {
      "text/plain": [
       "Plot2dDefault(w=None, what='max(Access)', x='index', y='Address', z=None)"
      ]
     },
     "metadata": {},
     "output_type": "display_data"
    }
   ],
   "source": [
    "vdf.plot_widget(vdf.index, vdf.Address, what=\"max(Access)\", colormap=plt.get_cmap('Greys'))"
   ]
  },
  {
   "cell_type": "code",
   "execution_count": 11,
   "metadata": {},
   "outputs": [
    {
     "data": {
      "application/vnd.jupyter.widget-view+json": {
       "model_id": "1bb19dbcf7004255ac67ebc83a84a71e",
       "version_major": 2,
       "version_minor": 0
      },
      "text/plain": [
       "PlotTemplate(components={'main-widget': VBox(children=(VBox(children=(Figure(axes=[Axis(color='#666', grid_col…"
      ]
     },
     "metadata": {},
     "output_type": "display_data"
    },
    {
     "data": {
      "text/plain": [
       "Plot2dDefault(w=None, what='max(Access)', x='index', y='Address', z=None)"
      ]
     },
     "metadata": {},
     "output_type": "display_data"
    }
   ],
   "source": [
    "vdf.plot_widget(vdf.index, vdf.Address, what=\"max(Access)\", colormap=plt.get_cmap('Greys'))"
   ]
  },
  {
   "cell_type": "code",
   "execution_count": 12,
   "metadata": {},
   "outputs": [
    {
     "data": {
      "text/plain": [
       "<matplotlib.image.AxesImage at 0x7f6c910bb750>"
      ]
     },
     "execution_count": 12,
     "metadata": {},
     "output_type": "execute_result"
    },
    {
     "data": {
      "image/png": "[encoded data removed]",
      "text/plain": [
       "<Figure size 432x288 with 2 Axes>"
      ]
     },
     "metadata": {
      "needs_background": "light"
     },
     "output_type": "display_data"
    }
   ],
   "source": [
    "vdf.plot(vdf.index, vdf.Address, what=\"max(Access)\", colormap=plt.get_cmap('Greys'))"
   ]
  },
  {
   "cell_type": "code",
   "execution_count": 14,
   "metadata": {},
   "outputs": [
    {
     "data": {
      "text/plain": [
       "<matplotlib.image.AxesImage at 0x7f6c90f41bd0>"
      ]
     },
     "execution_count": 14,
     "metadata": {},
     "output_type": "execute_result"
    },
    {
     "data": {
      "image/png": "[encoded data removed]",
      "text/plain": [
       "<Figure size 432x288 with 2 Axes>"
      ]
     },
     "metadata": {
      "needs_background": "light"
     },
     "output_type": "display_data"
    }
   ],
   "source": [
    "vdf.plot(vdf.index, vdf.Address, what=\"mean(Access)\", colormap=plt.get_cmap('Greys'))"
   ]
  },
  {
   "cell_type": "code",
   "execution_count": 36,
   "metadata": {},
   "outputs": [
    {
     "data": {
      "text/html": [
       "<table>\n",
       "<thead>\n",
       "<tr><th>#                                  </th><th>Access  </th><th>Address  </th><th>Tag  </th><th>index  </th></tr>\n",
       "</thead>\n",
       "<tbody>\n",
       "<tr><td>&lt;i style=&#x27;opacity: 0.6&#x27;&gt;0&lt;/i&gt;      </td><td>4       </td><td>0        </td><td>0    </td><td>0      </td></tr>\n",
       "<tr><td>&lt;i style=&#x27;opacity: 0.6&#x27;&gt;1&lt;/i&gt;      </td><td>16      </td><td>8        </td><td>0    </td><td>1      </td></tr>\n",
       "<tr><td>&lt;i style=&#x27;opacity: 0.6&#x27;&gt;2&lt;/i&gt;      </td><td>16      </td><td>16       </td><td>0    </td><td>2      </td></tr>\n",
       "<tr><td>&lt;i style=&#x27;opacity: 0.6&#x27;&gt;3&lt;/i&gt;      </td><td>16      </td><td>24       </td><td>0    </td><td>3      </td></tr>\n",
       "<tr><td>&lt;i style=&#x27;opacity: 0.6&#x27;&gt;4&lt;/i&gt;      </td><td>16      </td><td>32       </td><td>0    </td><td>4      </td></tr>\n",
       "<tr><td>...                                </td><td>...     </td><td>...      </td><td>...  </td><td>...    </td></tr>\n",
       "<tr><td>&lt;i style=&#x27;opacity: 0.6&#x27;&gt;899,995&lt;/i&gt;</td><td>16      </td><td>1617560  </td><td>1    </td><td>899995 </td></tr>\n",
       "<tr><td>&lt;i style=&#x27;opacity: 0.6&#x27;&gt;899,996&lt;/i&gt;</td><td>8       </td><td>793560   </td><td>0    </td><td>899996 </td></tr>\n",
       "<tr><td>&lt;i style=&#x27;opacity: 0.6&#x27;&gt;899,997&lt;/i&gt;</td><td>16      </td><td>1617568  </td><td>1    </td><td>899997 </td></tr>\n",
       "<tr><td>&lt;i style=&#x27;opacity: 0.6&#x27;&gt;899,998&lt;/i&gt;</td><td>8       </td><td>801576   </td><td>0    </td><td>899998 </td></tr>\n",
       "<tr><td>&lt;i style=&#x27;opacity: 0.6&#x27;&gt;899,999&lt;/i&gt;</td><td>16      </td><td>1617576  </td><td>1    </td><td>899999 </td></tr>\n",
       "</tbody>\n",
       "</table>"
      ],
      "text/plain": [
       "#        Access    Address    Tag    index\n",
       "0        4         0          0      0\n",
       "1        16        8          0      1\n",
       "2        16        16         0      2\n",
       "3        16        24         0      3\n",
       "4        16        32         0      4\n",
       "...      ...       ...        ...    ...\n",
       "899,995  16        1617560    1      899995\n",
       "899,996  8         793560     0      899996\n",
       "899,997  16        1617568    1      899997\n",
       "899,998  8         801576     0      899998\n",
       "899,999  16        1617576    1      899999"
      ]
     },
     "execution_count": 36,
     "metadata": {},
     "output_type": "execute_result"
    }
   ],
   "source": [
    "vdf = vaex.open('trace.hdf5')\n",
    "vdf['index'] = np.arange(0, vdf.Address.count())\n",
    "vdf"
   ]
  },
  {
   "cell_type": "code",
   "execution_count": 45,
   "metadata": {},
   "outputs": [
    {
     "data": {
      "application/vnd.jupyter.widget-view+json": {
       "model_id": "48ff8d1a8b264b5dbd7451c1d824106e",
       "version_major": 2,
       "version_minor": 0
      },
      "text/plain": [
       "PlotTemplate(components={'main-widget': VBox(children=(VBox(children=(Figure(axes=[Axis(color='#666', grid_col…"
      ]
     },
     "metadata": {},
     "output_type": "display_data"
    },
    {
     "data": {
      "text/plain": [
       "Plot2dDefault(w=None, what='max(Access)', x='index', y='Address', z=None)"
      ]
     },
     "metadata": {},
     "output_type": "display_data"
    }
   ],
   "source": [
    "vdf.plot_widget(vdf.index, vdf.Address, what=\"max(Access)\", colormap=plt.get_cmap('Greys'))"
   ]
  },
  {
   "cell_type": "code",
   "execution_count": 38,
   "metadata": {},
   "outputs": [
    {
     "data": {
      "text/plain": [
       "[<matplotlib.lines.Line2D at 0x7f6c1736aa10>]"
      ]
     },
     "execution_count": 38,
     "metadata": {},
     "output_type": "execute_result"
    },
    {
     "data": {
      "image/png": "[encoded data removed]",
      "text/plain": [
       "<Figure size 432x288 with 1 Axes>"
      ]
     },
     "metadata": {
      "needs_background": "light"
     },
     "output_type": "display_data"
    }
   ],
   "source": [
    "vdf.plot1d(vdf.Access, limits=[0, 40])"
   ]
  },
  {
   "cell_type": "code",
   "execution_count": 26,
   "metadata": {},
   "outputs": [
    {
     "data": {
      "text/plain": [
       "[array(65050), array(234525), array(434950), array(165475)]"
      ]
     },
     "execution_count": 26,
     "metadata": {},
     "output_type": "execute_result"
    }
   ],
   "source": [
    "[vdf[vdf.Access==x].count() for x in [4, 8, 16, 32]] # block size 8"
   ]
  },
  {
   "cell_type": "code",
   "execution_count": 31,
   "metadata": {},
   "outputs": [
    {
     "data": {
      "text/plain": [
       "[array(65050), array(243900), array(434950), array(156100)]"
      ]
     },
     "execution_count": 31,
     "metadata": {},
     "output_type": "execute_result"
    }
   ],
   "source": [
    "[vdf[vdf.Access==x].count() for x in [4, 8, 16, 32]] # block size 4"
   ]
  },
  {
   "cell_type": "code",
   "execution_count": 35,
   "metadata": {},
   "outputs": [
    {
     "data": {
      "text/plain": [
       "[array(67780), array(228650), array(432220), array(171350)]"
      ]
     },
     "execution_count": 35,
     "metadata": {},
     "output_type": "execute_result"
    }
   ],
   "source": [
    "[vdf[vdf.Access==x].count() for x in [4, 8, 16, 32]] # block size 25"
   ]
  },
  {
   "cell_type": "code",
   "execution_count": 39,
   "metadata": {},
   "outputs": [
    {
     "data": {
      "text/plain": [
       "[array(64550), array(312650), array(435450), array(87350)]"
      ]
     },
     "execution_count": 39,
     "metadata": {},
     "output_type": "execute_result"
    }
   ],
   "source": [
    "[vdf[vdf.Access==x].count() for x in [4, 8, 16, 32]] # block size 100"
   ]
  },
  {
   "cell_type": "code",
   "execution_count": null,
   "metadata": {},
   "outputs": [],
   "source": []
  },
  {
   "cell_type": "code",
   "execution_count": 54,
   "metadata": {},
   "outputs": [
    {
     "data": {
      "text/plain": [
       "[<matplotlib.lines.Line2D at 0x7f6f8aabc990>]"
      ]
     },
     "execution_count": 54,
     "metadata": {},
     "output_type": "execute_result"
    },
    {
     "data": {
      "image/png": "[encoded data removed]",
      "text/plain": [
       "<Figure size 432x288 with 1 Axes>"
      ]
     },
     "metadata": {
      "needs_background": "light"
     },
     "output_type": "display_data"
    }
   ],
   "source": [
    "vdf.plot1d(vdf.Access)"
   ]
  },
  {
   "cell_type": "code",
   "execution_count": null,
   "metadata": {},
   "outputs": [],
   "source": []
  }
 ],
 "metadata": {
  "kernelspec": {
   "display_name": "Python 3",
   "language": "python",
   "name": "python3"
  },
  "language_info": {
   "codemirror_mode": {
    "name": "ipython",
    "version": 3
   },
   "file_extension": ".py",
   "mimetype": "text/x-python",
   "name": "python",
   "nbconvert_exporter": "python",
   "pygments_lexer": "ipython3",
   "version": "3.7.6"
  }
 },
 "nbformat": 4,
 "nbformat_minor": 4
}
