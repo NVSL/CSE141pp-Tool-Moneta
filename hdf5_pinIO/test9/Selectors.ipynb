{
 "cells": [
  {
   "cell_type": "code",
   "execution_count": 1,
   "metadata": {},
   "outputs": [
    {
     "name": "stdout",
     "output_type": "stream",
     "text": [
      "\n",
      "CPU times: user 2.36 ms, sys: 6.13 ms, total: 8.5 ms\n",
      "Wall time: 10.8 s\n"
     ]
    }
   ],
   "source": [
    "%%time\n",
    "# Run precompiled pin tool with student's executable\n",
    "import subprocess\n",
    "\n",
    "\n",
    "cacheSize = \"200000\"\n",
    "numLinesOut = \"10000000\"\n",
    "studentExecutable = \"./executable\"\n",
    "\n",
    "\n",
    "csvFileName = \"pin\" #not sure if this should be input by student or just set to a default since CSV will be behind the scenes\n",
    "\n",
    "pinExecutable = \"/setup/pintool/pin\"\n",
    "cacheDumpSOPath = \"/setup/pintool/source/tools/ManualExamples/obj-intel64/cache_dump.so\"\n",
    "csvFile = csvFileName + \"_mem.out\"\n",
    "\n",
    "args = [pinExecutable,\"-t\", cacheDumpSOPath , \"-o\",csvFileName, \"-c\", cacheSize, '-m', numLinesOut,\"--\",studentExecutable]\n",
    "completed = subprocess.run(args,capture_output=True)\n",
    "print(completed.stdout.decode('utf-8'))\n",
    "\n",
    "# display csv file line count\n",
    "#completed = subprocess.run([\"wc\", csvFile], capture_output=True) # num lines, num words, num bytes\n",
    "#print(completed.stdout.decode('utf-8'))"
   ]
  },
  {
   "cell_type": "code",
   "execution_count": 7,
   "metadata": {},
   "outputs": [
    {
     "name": "stdout",
     "output_type": "stream",
     "text": [
      "\n",
      "CPU times: user 2.39 ms, sys: 9.07 ms, total: 11.5 ms\n",
      "Wall time: 11.8 s\n"
     ]
    }
   ],
   "source": [
    "%%time\n",
    "# Run pre compiled converter\n",
    "cacheOutFile = \"cache_out.h5\"\n",
    "\n",
    "args = ['./convert', csvFile, cacheOutFile]\n",
    "completed = subprocess.run(args,capture_output=True)\n",
    "print(completed.stdout.decode('utf-8'))"
   ]
  },
  {
   "cell_type": "code",
   "execution_count": 3,
   "metadata": {},
   "outputs": [
    {
     "data": {
      "application/vnd.jupyter.widget-view+json": {
       "model_id": "7a9ae7125ccc484e809147457754a8fd",
       "version_major": 2,
       "version_minor": 0
      },
      "text/plain": [
       "PlotTemplate(components={'main-widget': VBox(children=(VBox(children=(Figure(axes=[Axis(color='#666', grid_col…"
      ]
     },
     "metadata": {},
     "output_type": "display_data"
    },
    {
     "data": {
      "application/vnd.jupyter.widget-view+json": {
       "model_id": "c90413e48c0d495ba678c405a2ff36e9",
       "version_major": 2,
       "version_minor": 0
      },
      "text/plain": [
       "HBox(children=(VBox(children=(Checkbox(value=True, description='Hardcoded Tag 1', indent=False), Checkbox(valu…"
      ]
     },
     "metadata": {},
     "output_type": "display_data"
    }
   ],
   "source": [
    "import ipywidgets as widgets\n",
    "from ipywidgets import Checkbox, VBox, HBox\n",
    "import vaex\n",
    "import vaex.jupyter\n",
    "import numpy as np\n",
    "import pylab as plt\n",
    "\n",
    "import warnings\n",
    "warnings.simplefilter(action='ignore', category=FutureWarning)\n",
    "\n",
    "\n",
    "#Enumerations\n",
    "READ_HIT = b'R'\n",
    "READ_MISS = b'S'\n",
    "WRITE_HIT = b'W'\n",
    "WRITE_MISS = b'X'\n",
    "\n",
    "\n",
    "df = vaex.open(cacheOutFile)\n",
    "df['index'] = np.arange(0, df.ADDRESS.count())\n",
    "\n",
    "#Set up name-tag mapping\n",
    "namesFromFile = [\"Hardcoded Tag 1\", \"2\"]\n",
    "tagsFromFile = np.unique(df.tag.values).tolist()\n",
    "numTags = len(namesFromFile)\n",
    "\n",
    "\n",
    "\n",
    "#Define all selections here\n",
    "df.select(True, name='structures')\n",
    "df.select(True, name='rw')\n",
    "df.select(True, name='hm')\n",
    "df.select(True, name='total')\n",
    "\n",
    "\n",
    "#Initialize selections\n",
    "for tag in tagsFromFile:\n",
    "    df.select(df.tag == tag, mode='or')\n",
    "\n",
    "    \n",
    "#Handle all boolean combinations of independent checkboxes here\n",
    "def combineSelections():\n",
    "    df.select(\"structures\", mode='replace', name='total')\n",
    "    df.select(\"rw\", mode='and', name='total')\n",
    "    df.select(\"hm\", mode='and', name='total')\n",
    "    \n",
    "    \n",
    "    \n",
    "def updateGraph(change):\n",
    "    if(change.name == 'value'):\n",
    "        \n",
    "        name = change.owner.description\n",
    "        tag = tagsFromFile[namesFromFile.index(name)]\n",
    "\n",
    "        if(change.new == True):\n",
    "            df.select(df.tag == tag, mode='or', name='structures')\n",
    "            combineSelections()\n",
    "        else:\n",
    "            df.select(df.tag == tag, mode='subtract', name='structures')\n",
    "            combineSelections()\n",
    "    df.select('total')\n",
    "        \n",
    "        \n",
    "        \n",
    "def updateReadWrite(change):\n",
    "    if(change.name == 'value'):\n",
    "        \n",
    "        name = change.owner.description\n",
    "        \n",
    "        if(name == \"Reads\"):\n",
    "            targetHit = READ_HIT\n",
    "            targetMiss = READ_MISS\n",
    "        else:\n",
    "            targetHit = WRITE_HIT\n",
    "            targetMiss = WRITE_MISS\n",
    "        \n",
    "        if(change.new == True):\n",
    "            df.select(df.WRITE == targetHit, mode='or', name='rw')\n",
    "            df.select(df.WRITE == targetMiss, mode='or', name='rw')\n",
    "            combineSelections()\n",
    "        else:\n",
    "            df.select(df.WRITE == targetHit, mode='subtract', name='rw')\n",
    "            df.select(df.WRITE == targetMiss, mode='subtract', name='rw')\n",
    "            combineSelections()\n",
    "    df.select('total')\n",
    "            \n",
    "        \n",
    "            \n",
    "            \n",
    "def updateHitMiss(change):\n",
    "    if(change.name == 'value'):\n",
    "        \n",
    "        name = change.owner.description\n",
    "        \n",
    "        if(name == \"Hits\"):\n",
    "            targetRead = READ_HIT\n",
    "            targetWrite = WRITE_HIT\n",
    "        else:\n",
    "            targetRead = READ_MISS\n",
    "            targetWrite = WRITE_MISS\n",
    "        \n",
    "        if(change.new == True):\n",
    "            df.select(df.WRITE == targetRead, mode='or', name='hm')\n",
    "            df.select(df.WRITE == targetWrite, mode='or', name='hm')\n",
    "            combineSelections()\n",
    "        else:\n",
    "            df.select(df.WRITE == targetRead, mode='subtract', name='hm')\n",
    "            df.select(df.WRITE == targetWrite, mode='subtract', name='hm')\n",
    "            combineSelections()\n",
    "    df.select('total')\n",
    "        \n",
    "\n",
    "        \n",
    "        \n",
    "tagButtons = [Checkbox(description=name, value=True, disabled=False, indent=False) for name in namesFromFile]\n",
    "\n",
    "rwButtons = [Checkbox(description=\"Reads\", value=True, disabled=False, indent=False),\n",
    "             Checkbox(description=\"Writes\", value=True, disabled=False, indent=False)]\n",
    "\n",
    "hmButtons = [Checkbox(description=\"Hits\", value=True, disabled=False, indent=False),\n",
    "             Checkbox(description=\"Misses\", value=True, disabled=False, indent=False)]\n",
    "    \n",
    "    \n",
    "for i in range(numTags):\n",
    "    tagButtons[i].observe(updateGraph)\n",
    "    \n",
    "for button in rwButtons:\n",
    "    button.observe(updateReadWrite)\n",
    "    \n",
    "for button in hmButtons:\n",
    "    button.observe(updateHitMiss)\n",
    "    \n",
    "checks = HBox([VBox(tagButtons), VBox(rwButtons), VBox(hmButtons)])\n",
    "\n",
    "df.plot_widget(df.index, df.ADDRESS, selection=[True], backend='bqplot', tool_select=True)\n",
    "\n",
    "\n",
    "display(checks)"
   ]
  },
  {
   "cell_type": "code",
   "execution_count": 4,
   "metadata": {
    "scrolled": true
   },
   "outputs": [
    {
     "data": {
      "text/html": [
       "<table>\n",
       "<thead>\n",
       "<tr><th>#                                    </th><th>ADDRESS        </th><th>WRITE  </th><th>tag  </th><th>index  </th></tr>\n",
       "</thead>\n",
       "<tbody>\n",
       "<tr><td>&lt;i style=&#x27;opacity: 0.6&#x27;&gt;0&lt;/i&gt;        </td><td>140403457728528</td><td>b&#x27;S&#x27;   </td><td>0    </td><td>0      </td></tr>\n",
       "<tr><td>&lt;i style=&#x27;opacity: 0.6&#x27;&gt;1&lt;/i&gt;        </td><td>140403457728528</td><td>b&#x27;W&#x27;   </td><td>0    </td><td>1      </td></tr>\n",
       "<tr><td>&lt;i style=&#x27;opacity: 0.6&#x27;&gt;2&lt;/i&gt;        </td><td>140403457728532</td><td>b&#x27;S&#x27;   </td><td>0    </td><td>2      </td></tr>\n",
       "<tr><td>&lt;i style=&#x27;opacity: 0.6&#x27;&gt;3&lt;/i&gt;        </td><td>140403457728532</td><td>b&#x27;W&#x27;   </td><td>0    </td><td>3      </td></tr>\n",
       "<tr><td>&lt;i style=&#x27;opacity: 0.6&#x27;&gt;4&lt;/i&gt;        </td><td>140403457728536</td><td>b&#x27;S&#x27;   </td><td>0    </td><td>4      </td></tr>\n",
       "<tr><td>...                                  </td><td>...            </td><td>...    </td><td>...  </td><td>...    </td></tr>\n",
       "<tr><td>&lt;i style=&#x27;opacity: 0.6&#x27;&gt;9,999,995&lt;/i&gt;</td><td>140403459728320</td><td>b&#x27;W&#x27;   </td><td>0    </td><td>9999995</td></tr>\n",
       "<tr><td>&lt;i style=&#x27;opacity: 0.6&#x27;&gt;9,999,996&lt;/i&gt;</td><td>140403459728324</td><td>b&#x27;R&#x27;   </td><td>0    </td><td>9999996</td></tr>\n",
       "<tr><td>&lt;i style=&#x27;opacity: 0.6&#x27;&gt;9,999,997&lt;/i&gt;</td><td>140403459728324</td><td>b&#x27;W&#x27;   </td><td>0    </td><td>9999997</td></tr>\n",
       "<tr><td>&lt;i style=&#x27;opacity: 0.6&#x27;&gt;9,999,998&lt;/i&gt;</td><td>140403459728328</td><td>b&#x27;R&#x27;   </td><td>0    </td><td>9999998</td></tr>\n",
       "<tr><td>&lt;i style=&#x27;opacity: 0.6&#x27;&gt;9,999,999&lt;/i&gt;</td><td>140403459728328</td><td>b&#x27;W&#x27;   </td><td>0    </td><td>9999999</td></tr>\n",
       "</tbody>\n",
       "</table>"
      ],
      "text/plain": [
       "#          ADDRESS          WRITE    tag    index\n",
       "0          140403457728528  b'S'     0      0\n",
       "1          140403457728528  b'W'     0      1\n",
       "2          140403457728532  b'S'     0      2\n",
       "3          140403457728532  b'W'     0      3\n",
       "4          140403457728536  b'S'     0      4\n",
       "...        ...              ...      ...    ...\n",
       "9,999,995  140403459728320  b'W'     0      9999995\n",
       "9,999,996  140403459728324  b'R'     0      9999996\n",
       "9,999,997  140403459728324  b'W'     0      9999997\n",
       "9,999,998  140403459728328  b'R'     0      9999998\n",
       "9,999,999  140403459728328  b'W'     0      9999999"
      ]
     },
     "execution_count": 4,
     "metadata": {},
     "output_type": "execute_result"
    }
   ],
   "source": [
    "# Display data \n",
    "df"
   ]
  },
  {
   "cell_type": "code",
   "execution_count": 40,
   "metadata": {},
   "outputs": [
    {
     "data": {
      "text/plain": [
       "'0x7fc30a4f53c8'"
      ]
     },
     "execution_count": 40,
     "metadata": {},
     "output_type": "execute_result"
    }
   ],
   "source": [
    "hex(140475668321224)"
   ]
  },
  {
   "cell_type": "code",
   "execution_count": 6,
   "metadata": {},
   "outputs": [],
   "source": [
    "df.close_files()"
   ]
  },
  {
   "cell_type": "code",
   "execution_count": 8,
   "metadata": {},
   "outputs": [
    {
     "name": "stdout",
     "output_type": "stream",
     "text": [
      "\n",
      "CPU times: user 6.48 ms, sys: 7.26 ms, total: 13.7 ms\n",
      "Wall time: 185 ms\n"
     ]
    }
   ],
   "source": [
    "%%time\n",
    "# TO CONVERT cache_accesses.out\n",
    "# Run pre compiled converter\n",
    "import subprocess\n",
    "\n",
    "csvAccessFile = \"cache_accesses.out\"\n",
    "cacheAccessesFile = \"accesses.h5\"\n",
    "\n",
    "args = ['./convertAccesses', csvAccessFile, cacheAccessesFile]\n",
    "completed = subprocess.run(args,capture_output=True)\n",
    "print(completed.stdout.decode('utf-8'))"
   ]
  },
  {
   "cell_type": "code",
   "execution_count": 9,
   "metadata": {},
   "outputs": [
    {
     "data": {
      "text/html": [
       "<table>\n",
       "<thead>\n",
       "<tr><th>#                                  </th><th>ACCESS         </th></tr>\n",
       "</thead>\n",
       "<tbody>\n",
       "<tr><td>&lt;i style=&#x27;opacity: 0.6&#x27;&gt;0&lt;/i&gt;      </td><td>140403459728328</td></tr>\n",
       "<tr><td>&lt;i style=&#x27;opacity: 0.6&#x27;&gt;1&lt;/i&gt;      </td><td>140733306391768</td></tr>\n",
       "<tr><td>&lt;i style=&#x27;opacity: 0.6&#x27;&gt;2&lt;/i&gt;      </td><td>140733306391760</td></tr>\n",
       "<tr><td>&lt;i style=&#x27;opacity: 0.6&#x27;&gt;3&lt;/i&gt;      </td><td>140733306391744</td></tr>\n",
       "<tr><td>&lt;i style=&#x27;opacity: 0.6&#x27;&gt;4&lt;/i&gt;      </td><td>140733306391824</td></tr>\n",
       "<tr><td>...                                </td><td>...            </td></tr>\n",
       "<tr><td>&lt;i style=&#x27;opacity: 0.6&#x27;&gt;199,995&lt;/i&gt;</td><td>140403458928620</td></tr>\n",
       "<tr><td>&lt;i style=&#x27;opacity: 0.6&#x27;&gt;199,996&lt;/i&gt;</td><td>140403458928616</td></tr>\n",
       "<tr><td>&lt;i style=&#x27;opacity: 0.6&#x27;&gt;199,997&lt;/i&gt;</td><td>140403458928612</td></tr>\n",
       "<tr><td>&lt;i style=&#x27;opacity: 0.6&#x27;&gt;199,998&lt;/i&gt;</td><td>140403458928608</td></tr>\n",
       "<tr><td>&lt;i style=&#x27;opacity: 0.6&#x27;&gt;199,999&lt;/i&gt;</td><td>140403458928604</td></tr>\n",
       "</tbody>\n",
       "</table>"
      ],
      "text/plain": [
       "#        ACCESS\n",
       "0        140403459728328\n",
       "1        140733306391768\n",
       "2        140733306391760\n",
       "3        140733306391744\n",
       "4        140733306391824\n",
       "...      ...\n",
       "199,995  140403458928620\n",
       "199,996  140403458928616\n",
       "199,997  140403458928612\n",
       "199,998  140403458928608\n",
       "199,999  140403458928604"
      ]
     },
     "execution_count": 9,
     "metadata": {},
     "output_type": "execute_result"
    }
   ],
   "source": [
    "import vaex\n",
    "df_access = vaex.open(cacheAccessesFile)\n",
    "df_access"
   ]
  },
  {
   "cell_type": "code",
   "execution_count": 10,
   "metadata": {},
   "outputs": [],
   "source": [
    "df_access.close_files()"
   ]
  },
  {
   "cell_type": "code",
   "execution_count": 7,
   "metadata": {},
   "outputs": [
    {
     "data": {
      "application/vnd.jupyter.widget-view+json": {
       "model_id": "a8473f33391645938e6ef4c223ef17b5",
       "version_major": 2,
       "version_minor": 0
      },
      "text/plain": [
       "PlotTemplate(components={'main-widget': VBox(children=(VBox(children=(Figure(axes=[Axis(color='#666', grid_col…"
      ]
     },
     "metadata": {},
     "output_type": "display_data"
    },
    {
     "data": {
      "text/plain": [
       "Plot2dDefault(w=None, what='count(*)', x='tag', y='ADDRESS', z=None)"
      ]
     },
     "metadata": {},
     "output_type": "display_data"
    }
   ],
   "source": [
    "import ipywidgets as widgets\n",
    "import inspect\n",
    "from ipywidgets import Checkbox, VBox\n",
    "import vaex\n",
    "import vaex.jupyter\n",
    "import numpy as np\n",
    "import pylab as plt\n",
    "\n",
    "\n",
    "\n",
    "#df = vaex.open(\"../hdf5_pinIO/test9/mill_access.h5\")\n",
    "df['index'] = np.arange(0, df.ADDRESS.count())\n",
    "np.unique(df.tag.values).tolist()\n",
    "arr = np.unique(df.WRITE.values).tolist()\n",
    "df[:200010]\n",
    "df.plot_widget(df.tag, df.ADDRESS, selection=[True], backend='bqplot', tool_select=True)\n",
    "\n"
   ]
  },
  {
   "cell_type": "code",
   "execution_count": null,
   "metadata": {},
   "outputs": [],
   "source": []
  },
  {
   "cell_type": "code",
   "execution_count": null,
   "metadata": {},
   "outputs": [],
   "source": []
  }
 ],
 "metadata": {
  "kernelspec": {
   "display_name": "Python 3",
   "language": "python",
   "name": "python3"
  },
  "language_info": {
   "codemirror_mode": {
    "name": "ipython",
    "version": 3
   },
   "file_extension": ".py",
   "mimetype": "text/x-python",
   "name": "python",
   "nbconvert_exporter": "python",
   "pygments_lexer": "ipython3",
   "version": "3.7.6"
  }
 },
 "nbformat": 4,
 "nbformat_minor": 4
}
