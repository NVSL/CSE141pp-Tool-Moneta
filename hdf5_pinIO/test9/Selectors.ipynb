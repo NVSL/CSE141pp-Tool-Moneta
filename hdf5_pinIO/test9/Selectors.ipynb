{
 "cells": [
  {
   "cell_type": "code",
   "execution_count": 2,
   "metadata": {},
   "outputs": [
    {
     "name": "stdout",
     "output_type": "stream",
     "text": [
      "\n",
      "\n"
     ]
    }
   ],
   "source": [
    "# Run precompiled pin tool\n",
    "import subprocess\n",
    "args = [\"/setup/pintool/pin\",\"-t\", \"/setup/pintool/source/tools/ManualExamples/obj-intel64/cache_dump.so\", \"-o\",\"pin\", \"-c\", \"200000\", '-m', \"1000000\",\"--\",\"./executable\"]\n",
    "completed = subprocess.run(args,capture_output=True)\n",
    "print(completed.stdout.decode('utf-8'))\n",
    "completed = subprocess.run([\"wc\", \"inscount0.log\"], capture_output=True)\n",
    "print(completed.stdout.decode('utf-8'))"
   ]
  },
  {
   "cell_type": "code",
   "execution_count": 3,
   "metadata": {},
   "outputs": [
    {
     "name": "stdout",
     "output_type": "stream",
     "text": [
      "\n",
      "\n"
     ]
    }
   ],
   "source": [
    "# Run pre compiled converter\n",
    "args = ['./convert', 'pin_mem.out', 'cache_access.h5']\n",
    "completed = subprocess.run(args,capture_output=True)\n",
    "print(completed.stdout.decode('utf-8'))\n",
    "completed = subprocess.run([\"wc\", \"inscount0.log\"], capture_output=True)\n",
    "print(completed.stdout.decode('utf-8'))"
   ]
  },
  {
   "cell_type": "code",
   "execution_count": 4,
   "metadata": {},
   "outputs": [
    {
     "data": {
      "application/vnd.jupyter.widget-view+json": {
       "model_id": "4354cf1167174cee84bb4bc7e1a75586",
       "version_major": 2,
       "version_minor": 0
      },
      "text/plain": [
       "PlotTemplate(components={'main-widget': VBox(children=(VBox(children=(Figure(axes=[Axis(color='#666', grid_col…"
      ]
     },
     "metadata": {},
     "output_type": "display_data"
    },
    {
     "data": {
      "application/vnd.jupyter.widget-view+json": {
       "model_id": "f119df0776e24a2c8fda598b6799e61f",
       "version_major": 2,
       "version_minor": 0
      },
      "text/plain": [
       "HBox(children=(VBox(children=(Checkbox(value=True, description='Hardcoded Tag 1', indent=False), Checkbox(valu…"
      ]
     },
     "metadata": {},
     "output_type": "display_data"
    }
   ],
   "source": [
    "import ipywidgets as widgets\n",
    "from ipywidgets import Checkbox, VBox, HBox\n",
    "import vaex\n",
    "import vaex.jupyter\n",
    "import numpy as np\n",
    "import pylab as plt\n",
    "\n",
    "import warnings\n",
    "warnings.simplefilter(action='ignore', category=FutureWarning)\n",
    "\n",
    "\n",
    "#Enumerations\n",
    "READ_HIT = b'R'\n",
    "READ_MISS = b'S'\n",
    "WRITE_HIT = b'W'\n",
    "WRITE_MISS = b'X'\n",
    "\n",
    "\n",
    "df = vaex.open(\"cache_access.h5\")\n",
    "df['index'] = np.arange(0, df.ADDRESS.count())\n",
    "\n",
    "#Set up name-tag mapping\n",
    "namesFromFile = [\"Hardcoded Tag 1\", \"2\"]\n",
    "tagsFromFile = np.unique(df.tag.values).tolist()\n",
    "numTags = len(namesFromFile)\n",
    "\n",
    "\n",
    "\n",
    "#Define all selections here\n",
    "df.select(True, name='structures')\n",
    "df.select(True, name='rw')\n",
    "df.select(True, name='hm')\n",
    "df.select(True, name='total')\n",
    "\n",
    "\n",
    "#Initialize selections\n",
    "for tag in tagsFromFile:\n",
    "    df.select(df.tag == tag, mode='or')\n",
    "\n",
    "    \n",
    "#Handle all boolean combinations of independent checkboxes here\n",
    "def combineSelections():\n",
    "    df.select(\"structures\", mode='replace', name='total')\n",
    "    df.select(\"rw\", mode='and', name='total')\n",
    "    df.select(\"hm\", mode='and', name='total')\n",
    "    \n",
    "    \n",
    "    \n",
    "def updateGraph(change):\n",
    "    if(change.name == 'value'):\n",
    "        \n",
    "        name = change.owner.description\n",
    "        tag = tagsFromFile[namesFromFile.index(name)]\n",
    "\n",
    "        if(change.new == True):\n",
    "            df.select(df.tag == tag, mode='or', name='structures')\n",
    "            combineSelections()\n",
    "        else:\n",
    "            df.select(df.tag == tag, mode='subtract', name='structures')\n",
    "            combineSelections()\n",
    "    df.select('total')\n",
    "        \n",
    "        \n",
    "        \n",
    "def updateReadWrite(change):\n",
    "    if(change.name == 'value'):\n",
    "        \n",
    "        name = change.owner.description\n",
    "        \n",
    "        if(name == \"Reads\"):\n",
    "            targetHit = READ_HIT\n",
    "            targetMiss = READ_MISS\n",
    "        else:\n",
    "            targetHit = WRITE_HIT\n",
    "            targetMiss = WRITE_MISS\n",
    "        \n",
    "        if(change.new == True):\n",
    "            df.select(df.WRITE == targetHit, mode='or', name='rw')\n",
    "            df.select(df.WRITE == targetMiss, mode='or', name='rw')\n",
    "            combineSelections()\n",
    "        else:\n",
    "            df.select(df.WRITE == targetHit, mode='subtract', name='rw')\n",
    "            df.select(df.WRITE == targetMiss, mode='subtract', name='rw')\n",
    "            combineSelections()\n",
    "    df.select('total')\n",
    "            \n",
    "        \n",
    "            \n",
    "            \n",
    "def updateHitMiss(change):\n",
    "    if(change.name == 'value'):\n",
    "        \n",
    "        name = change.owner.description\n",
    "        \n",
    "        if(name == \"Hits\"):\n",
    "            targetRead = READ_HIT\n",
    "            targetWrite = WRITE_HIT\n",
    "        else:\n",
    "            targetRead = READ_MISS\n",
    "            targetWrite = WRITE_MISS\n",
    "        \n",
    "        if(change.new == True):\n",
    "            df.select(df.WRITE == targetRead, mode='or', name='hm')\n",
    "            df.select(df.WRITE == targetWrite, mode='or', name='hm')\n",
    "            combineSelections()\n",
    "        else:\n",
    "            df.select(df.WRITE == targetRead, mode='subtract', name='hm')\n",
    "            df.select(df.WRITE == targetWrite, mode='subtract', name='hm')\n",
    "            combineSelections()\n",
    "    df.select('total')\n",
    "        \n",
    "\n",
    "        \n",
    "        \n",
    "tagButtons = [Checkbox(description=name, value=True, disabled=False, indent=False) for name in namesFromFile]\n",
    "\n",
    "rwButtons = [Checkbox(description=\"Reads\", value=True, disabled=False, indent=False),\n",
    "             Checkbox(description=\"Writes\", value=True, disabled=False, indent=False)]\n",
    "\n",
    "hmButtons = [Checkbox(description=\"Hits\", value=True, disabled=False, indent=False),\n",
    "             Checkbox(description=\"Misses\", value=True, disabled=False, indent=False)]\n",
    "    \n",
    "    \n",
    "for i in range(numTags):\n",
    "    tagButtons[i].observe(updateGraph)\n",
    "    \n",
    "for button in rwButtons:\n",
    "    button.observe(updateReadWrite)\n",
    "    \n",
    "for button in hmButtons:\n",
    "    button.observe(updateHitMiss)\n",
    "    \n",
    "checks = HBox([VBox(tagButtons), VBox(rwButtons), VBox(hmButtons)])\n",
    "\n",
    "df.plot_widget(df.index, df.ADDRESS, selection=[True], backend='bqplot', tool_select=True)\n",
    "\n",
    "\n",
    "display(checks)"
   ]
  },
  {
   "cell_type": "code",
   "execution_count": 7,
   "metadata": {},
   "outputs": [
    {
     "data": {
      "application/vnd.jupyter.widget-view+json": {
       "model_id": "a8473f33391645938e6ef4c223ef17b5",
       "version_major": 2,
       "version_minor": 0
      },
      "text/plain": [
       "PlotTemplate(components={'main-widget': VBox(children=(VBox(children=(Figure(axes=[Axis(color='#666', grid_col…"
      ]
     },
     "metadata": {},
     "output_type": "display_data"
    },
    {
     "data": {
      "text/plain": [
       "Plot2dDefault(w=None, what='count(*)', x='tag', y='ADDRESS', z=None)"
      ]
     },
     "metadata": {},
     "output_type": "display_data"
    }
   ],
   "source": [
    "import ipywidgets as widgets\n",
    "import inspect\n",
    "from ipywidgets import Checkbox, VBox\n",
    "import vaex\n",
    "import vaex.jupyter\n",
    "import numpy as np\n",
    "import pylab as plt\n",
    "\n",
    "\n",
    "\n",
    "#df = vaex.open(\"../hdf5_pinIO/test9/mill_access.h5\")\n",
    "df['index'] = np.arange(0, df.ADDRESS.count())\n",
    "np.unique(df.tag.values).tolist()\n",
    "arr = np.unique(df.WRITE.values).tolist()\n",
    "df[:200010]\n",
    "df.plot_widget(df.tag, df.ADDRESS, selection=[True], backend='bqplot', tool_select=True)\n",
    "\n"
   ]
  },
  {
   "cell_type": "code",
   "execution_count": null,
   "metadata": {},
   "outputs": [],
   "source": []
  },
  {
   "cell_type": "code",
   "execution_count": 4,
   "metadata": {},
   "outputs": [
    {
     "data": {
      "text/html": [
       "<table>\n",
       "<thead>\n",
       "<tr><th>#                                  </th><th>ADDRESS        </th><th>WRITE  </th><th>tag  </th></tr>\n",
       "</thead>\n",
       "<tbody>\n",
       "<tr><td>&lt;i style=&#x27;opacity: 0.6&#x27;&gt;0&lt;/i&gt;      </td><td>140533611278352</td><td>b&#x27;S&#x27;   </td><td>0    </td></tr>\n",
       "<tr><td>&lt;i style=&#x27;opacity: 0.6&#x27;&gt;1&lt;/i&gt;      </td><td>140533611278352</td><td>b&#x27;W&#x27;   </td><td>0    </td></tr>\n",
       "<tr><td>&lt;i style=&#x27;opacity: 0.6&#x27;&gt;2&lt;/i&gt;      </td><td>140533611278356</td><td>b&#x27;S&#x27;   </td><td>0    </td></tr>\n",
       "<tr><td>&lt;i style=&#x27;opacity: 0.6&#x27;&gt;3&lt;/i&gt;      </td><td>140533611278356</td><td>b&#x27;W&#x27;   </td><td>0    </td></tr>\n",
       "<tr><td>&lt;i style=&#x27;opacity: 0.6&#x27;&gt;4&lt;/i&gt;      </td><td>140533611278360</td><td>b&#x27;S&#x27;   </td><td>0    </td></tr>\n",
       "<tr><td>...                                </td><td>...            </td><td>...    </td><td>...  </td></tr>\n",
       "<tr><td>&lt;i style=&#x27;opacity: 0.6&#x27;&gt;999,995&lt;/i&gt;</td><td>140533611678324</td><td>b&#x27;W&#x27;   </td><td>0    </td></tr>\n",
       "<tr><td>&lt;i style=&#x27;opacity: 0.6&#x27;&gt;999,996&lt;/i&gt;</td><td>140533611678328</td><td>b&#x27;R&#x27;   </td><td>0    </td></tr>\n",
       "<tr><td>&lt;i style=&#x27;opacity: 0.6&#x27;&gt;999,997&lt;/i&gt;</td><td>140533611678328</td><td>b&#x27;W&#x27;   </td><td>0    </td></tr>\n",
       "<tr><td>&lt;i style=&#x27;opacity: 0.6&#x27;&gt;999,998&lt;/i&gt;</td><td>140533611678332</td><td>b&#x27;R&#x27;   </td><td>0    </td></tr>\n",
       "<tr><td>&lt;i style=&#x27;opacity: 0.6&#x27;&gt;999,999&lt;/i&gt;</td><td>140533611678332</td><td>b&#x27;W&#x27;   </td><td>0    </td></tr>\n",
       "</tbody>\n",
       "</table>"
      ],
      "text/plain": [
       "#        ADDRESS          WRITE    tag\n",
       "0        140533611278352  b'S'     0\n",
       "1        140533611278352  b'W'     0\n",
       "2        140533611278356  b'S'     0\n",
       "3        140533611278356  b'W'     0\n",
       "4        140533611278360  b'S'     0\n",
       "...      ...              ...      ...\n",
       "999,995  140533611678324  b'W'     0\n",
       "999,996  140533611678328  b'R'     0\n",
       "999,997  140533611678328  b'W'     0\n",
       "999,998  140533611678332  b'R'     0\n",
       "999,999  140533611678332  b'W'     0"
      ]
     },
     "execution_count": 4,
     "metadata": {},
     "output_type": "execute_result"
    }
   ],
   "source": [
    "df = vaex.open(\"cache_access.h5\")\n",
    "df"
   ]
  },
  {
   "cell_type": "code",
   "execution_count": null,
   "metadata": {},
   "outputs": [],
   "source": []
  }
 ],
 "metadata": {
  "kernelspec": {
   "display_name": "Python 3",
   "language": "python",
   "name": "python3"
  },
  "language_info": {
   "codemirror_mode": {
    "name": "ipython",
    "version": 3
   },
   "file_extension": ".py",
   "mimetype": "text/x-python",
   "name": "python",
   "nbconvert_exporter": "python",
   "pygments_lexer": "ipython3",
   "version": "3.7.6"
  }
 },
 "nbformat": 4,
 "nbformat_minor": 4
}
