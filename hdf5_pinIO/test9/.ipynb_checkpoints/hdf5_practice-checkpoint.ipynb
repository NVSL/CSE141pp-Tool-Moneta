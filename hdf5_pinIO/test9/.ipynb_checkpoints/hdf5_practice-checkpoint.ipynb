{
 "cells": [
  {
   "cell_type": "code",
   "execution_count": 1,
   "metadata": {},
   "outputs": [],
   "source": [
    "import vaex\n",
    "import vaex.jupyter\n",
    "import numpy as np\n",
    "#import pylab as plt\n",
    "import bqplot.pyplot as plt\n",
    "import subprocess\n",
    "import h5py"
   ]
  },
  {
   "cell_type": "code",
   "execution_count": 5,
   "metadata": {},
   "outputs": [],
   "source": [
    "def run_process(args):\n",
    "    print('='*50)\n",
    "    print(' '.join(args))\n",
    "    print('-'*50)\n",
    "    completed_process = subprocess.run(args,capture_output=True)\n",
    "    assert completed_process.returncode == 0\n",
    "    print(completed_process.stdout.decode('utf-8'))"
   ]
  },
  {
   "cell_type": "code",
   "execution_count": 14,
   "metadata": {},
   "outputs": [
    {
     "name": "stdout",
     "output_type": "stream",
     "text": [
      "CPU times: user 3 µs, sys: 0 ns, total: 3 µs\n",
      "Wall time: 5.96 µs\n"
     ]
    }
   ],
   "source": [
    "%%time\n",
    "\n",
    "#FILENAME = 'test.cpp'    \n",
    "\n",
    "#run_process(['cat',\n",
    "#             FILENAME])\n",
    "\n",
    "#run_process(['g++',\n",
    "#             FILENAME])\n",
    "    \n",
    "#run_process(['/setup/pintool/pin',\n",
    "#             '-t', '/setup/pintool/source/tools/ManualExamples/obj-intel64/pinatrace.so',\n",
    "#            '--', './a.out'])\n",
    "\n",
    "#run_process(['wc',\n",
    "#             'pinatrace.out'])\n",
    "\n",
    "#print('='*50)"
   ]
  },
  {
   "cell_type": "code",
   "execution_count": 15,
   "metadata": {},
   "outputs": [
    {
     "name": "stdout",
     "output_type": "stream",
     "text": [
      "CPU times: user 3 µs, sys: 0 ns, total: 3 µs\n",
      "Wall time: 5.72 µs\n"
     ]
    }
   ],
   "source": [
    "%%time\n",
    "#df = vaex.from_csv('pinatrace.out', sep=' ', names=['inst_addr', 'RW', 'mem_addr'], header=None)\n",
    "#df.export_hdf5('pinatrace.hdf5')\n",
    "#df['mem_addr_int'] = df.mem_addr.apply(lambda x: int(x,16))\n",
    "#print('# lines: %d' % len(df))"
   ]
  },
  {
   "cell_type": "code",
   "execution_count": 5,
   "metadata": {},
   "outputs": [
    {
     "name": "stdout",
     "output_type": "stream",
     "text": [
      "MemAccesses\n",
      "(0, 0)\n"
     ]
    },
    {
     "ename": "NameError",
     "evalue": "name 'h5_x_arr' is not defined",
     "output_type": "error",
     "traceback": [
      "\u001b[0;31m---------------------------------------------------------------------------\u001b[0m",
      "\u001b[0;31mNameError\u001b[0m                                 Traceback (most recent call last)",
      "\u001b[0;32m<ipython-input-5-cf3677d31d3a>\u001b[0m in \u001b[0;36m<module>\u001b[0;34m\u001b[0m\n\u001b[1;32m      4\u001b[0m     \u001b[0mh5_i_arr\u001b[0m \u001b[0;34m=\u001b[0m \u001b[0mf\u001b[0m\u001b[0;34m[\u001b[0m\u001b[0;34m'MemAccesses'\u001b[0m\u001b[0;34m]\u001b[0m\u001b[0;34m[\u001b[0m\u001b[0;36m0\u001b[0m\u001b[0;34m]\u001b[0m\u001b[0;34m\u001b[0m\u001b[0;34m\u001b[0m\u001b[0m\n\u001b[1;32m      5\u001b[0m     \u001b[0mprint\u001b[0m \u001b[0;34m(\u001b[0m\u001b[0mh5_i_arr\u001b[0m\u001b[0;34m)\u001b[0m\u001b[0;34m\u001b[0m\u001b[0;34m\u001b[0m\u001b[0m\n\u001b[0;32m----> 6\u001b[0;31m     \u001b[0mprint\u001b[0m \u001b[0;34m(\u001b[0m\u001b[0mh5_x_arr\u001b[0m\u001b[0;34m)\u001b[0m\u001b[0;34m\u001b[0m\u001b[0;34m\u001b[0m\u001b[0m\n\u001b[0m",
      "\u001b[0;31mNameError\u001b[0m: name 'h5_x_arr' is not defined"
     ]
    }
   ],
   "source": [
    "with h5py.File('test5/pin_out.h5', 'r') as f:\n",
    "    for key in f.keys():\n",
    "        print(key)\n",
    "    h5_i_arr = f['MemAccesses'][0]\n",
    "    print (h5_i_arr)\n",
    "    print (h5_x_arr)"
   ]
  },
  {
   "cell_type": "code",
   "execution_count": 6,
   "metadata": {},
   "outputs": [
    {
     "name": "stdout",
     "output_type": "stream",
     "text": [
      "CPU times: user 6.24 ms, sys: 1.04 ms, total: 7.28 ms\n",
      "Wall time: 32.5 ms\n"
     ]
    },
    {
     "data": {
      "text/html": [
       "<table>\n",
       "<thead>\n",
       "<tr><th>#                             </th><th>MemAccesses  </th></tr>\n",
       "</thead>\n",
       "<tbody>\n",
       "<tr><td>&lt;i style=&#x27;opacity: 0.6&#x27;&gt;0&lt;/i&gt; </td><td>[0 0]        </td></tr>\n",
       "<tr><td>&lt;i style=&#x27;opacity: 0.6&#x27;&gt;1&lt;/i&gt; </td><td>[1 1]        </td></tr>\n",
       "<tr><td>&lt;i style=&#x27;opacity: 0.6&#x27;&gt;2&lt;/i&gt; </td><td>[2 0]        </td></tr>\n",
       "<tr><td>&lt;i style=&#x27;opacity: 0.6&#x27;&gt;3&lt;/i&gt; </td><td>[3 1]        </td></tr>\n",
       "<tr><td>&lt;i style=&#x27;opacity: 0.6&#x27;&gt;4&lt;/i&gt; </td><td>[4 0]        </td></tr>\n",
       "<tr><td>...                           </td><td>...          </td></tr>\n",
       "<tr><td>&lt;i style=&#x27;opacity: 0.6&#x27;&gt;20&lt;/i&gt;</td><td>[20  0]      </td></tr>\n",
       "<tr><td>&lt;i style=&#x27;opacity: 0.6&#x27;&gt;21&lt;/i&gt;</td><td>[21  1]      </td></tr>\n",
       "<tr><td>&lt;i style=&#x27;opacity: 0.6&#x27;&gt;22&lt;/i&gt;</td><td>[22  0]      </td></tr>\n",
       "<tr><td>&lt;i style=&#x27;opacity: 0.6&#x27;&gt;23&lt;/i&gt;</td><td>[23  1]      </td></tr>\n",
       "<tr><td>&lt;i style=&#x27;opacity: 0.6&#x27;&gt;24&lt;/i&gt;</td><td>[24  0]      </td></tr>\n",
       "</tbody>\n",
       "</table>"
      ],
      "text/plain": [
       "#    MemAccesses\n",
       "0    [0 0]\n",
       "1    [1 1]\n",
       "2    [2 0]\n",
       "3    [3 1]\n",
       "4    [4 0]\n",
       "...  ...\n",
       "20   [20  0]\n",
       "21   [21  1]\n",
       "22   [22  0]\n",
       "23   [23  1]\n",
       "24   [24  0]"
      ]
     },
     "execution_count": 6,
     "metadata": {},
     "output_type": "execute_result"
    }
   ],
   "source": [
    "%%time\n",
    "df1 = vaex.open('test4/pin_out.h5')\n",
    "df1"
   ]
  },
  {
   "cell_type": "code",
   "execution_count": 19,
   "metadata": {},
   "outputs": [
    {
     "data": {
      "text/plain": [
       "Expression = MemAccesses\n",
       "Length: 25 dtype: int64 (column)\n",
       "--------------------------------\n",
       " 0    [0 0]\n",
       " 1    [1 1]\n",
       " 2    [2 0]\n",
       " 3    [3 1]\n",
       " 4    [4 0]\n",
       "    ...    \n",
       "20  [20  0]\n",
       "21  [21  1]\n",
       "22  [22  0]\n",
       "23  [23  1]\n",
       "24  [24  0]"
      ]
     },
     "execution_count": 19,
     "metadata": {},
     "output_type": "execute_result"
    }
   ],
   "source": [
    "df1.MemAccesses"
   ]
  },
  {
   "cell_type": "code",
   "execution_count": null,
   "metadata": {},
   "outputs": [],
   "source": []
  },
  {
   "cell_type": "code",
   "execution_count": 2,
   "metadata": {},
   "outputs": [
    {
     "name": "stdout",
     "output_type": "stream",
     "text": [
      "CPU times: user 11.4 ms, sys: 3.83 ms, total: 15.2 ms\n",
      "Wall time: 46.7 ms\n"
     ]
    },
    {
     "data": {
      "text/html": [
       "<table>\n",
       "<thead>\n",
       "<tr><th>#                                  </th><th>ADDRESS  </th><th>WRITE  </th><th>tag  </th></tr>\n",
       "</thead>\n",
       "<tbody>\n",
       "<tr><td>&lt;i style=&#x27;opacity: 0.6&#x27;&gt;0&lt;/i&gt;      </td><td>0        </td><td>0      </td><td>0    </td></tr>\n",
       "<tr><td>&lt;i style=&#x27;opacity: 0.6&#x27;&gt;1&lt;/i&gt;      </td><td>1        </td><td>1      </td><td>1    </td></tr>\n",
       "<tr><td>&lt;i style=&#x27;opacity: 0.6&#x27;&gt;2&lt;/i&gt;      </td><td>2        </td><td>0      </td><td>2    </td></tr>\n",
       "<tr><td>&lt;i style=&#x27;opacity: 0.6&#x27;&gt;3&lt;/i&gt;      </td><td>3        </td><td>1      </td><td>3    </td></tr>\n",
       "<tr><td>&lt;i style=&#x27;opacity: 0.6&#x27;&gt;4&lt;/i&gt;      </td><td>4        </td><td>0      </td><td>0    </td></tr>\n",
       "<tr><td>...                                </td><td>...      </td><td>...    </td><td>...  </td></tr>\n",
       "<tr><td>&lt;i style=&#x27;opacity: 0.6&#x27;&gt;999,995&lt;/i&gt;</td><td>999995   </td><td>1      </td><td>3    </td></tr>\n",
       "<tr><td>&lt;i style=&#x27;opacity: 0.6&#x27;&gt;999,996&lt;/i&gt;</td><td>999996   </td><td>0      </td><td>0    </td></tr>\n",
       "<tr><td>&lt;i style=&#x27;opacity: 0.6&#x27;&gt;999,997&lt;/i&gt;</td><td>999997   </td><td>1      </td><td>1    </td></tr>\n",
       "<tr><td>&lt;i style=&#x27;opacity: 0.6&#x27;&gt;999,998&lt;/i&gt;</td><td>999998   </td><td>0      </td><td>2    </td></tr>\n",
       "<tr><td>&lt;i style=&#x27;opacity: 0.6&#x27;&gt;999,999&lt;/i&gt;</td><td>999999   </td><td>1      </td><td>3    </td></tr>\n",
       "</tbody>\n",
       "</table>"
      ],
      "text/plain": [
       "#        ADDRESS    WRITE    tag\n",
       "0        0          0        0\n",
       "1        1          1        1\n",
       "2        2          0        2\n",
       "3        3          1        3\n",
       "4        4          0        0\n",
       "...      ...        ...      ...\n",
       "999,995  999995     1        3\n",
       "999,996  999996     0        0\n",
       "999,997  999997     1        1\n",
       "999,998  999998     0        2\n",
       "999,999  999999     1        3"
      ]
     },
     "execution_count": 2,
     "metadata": {},
     "output_type": "execute_result"
    }
   ],
   "source": [
    "%%time\n",
    "df2 = vaex.open('test8/pin_out.h5')\n",
    "df2"
   ]
  },
  {
   "cell_type": "code",
   "execution_count": 3,
   "metadata": {},
   "outputs": [
    {
     "data": {
      "text/plain": [
       "Expression = tag\n",
       "Length: 1,000,000 dtype: int32 (column)\n",
       "---------------------------------------\n",
       "     0  0\n",
       "     1  1\n",
       "     2  2\n",
       "     3  3\n",
       "     4  0\n",
       "   ...   \n",
       "999995  3\n",
       "999996  0\n",
       "999997  1\n",
       "999998  2\n",
       "999999  3"
      ]
     },
     "execution_count": 3,
     "metadata": {},
     "output_type": "execute_result"
    }
   ],
   "source": [
    "df2.ADDRESS\n",
    "df2.WRITE\n",
    "df2.tag"
   ]
  },
  {
   "cell_type": "code",
   "execution_count": 5,
   "metadata": {},
   "outputs": [
    {
     "data": {
      "text/plain": [
       "array([     0,      4,      8, ..., 999988, 999992, 999996])"
      ]
     },
     "execution_count": 5,
     "metadata": {},
     "output_type": "execute_result"
    }
   ],
   "source": [
    "#df2.select(df2.WRITE<1)\n",
    "sel = df2.evaluate(\"ADDRESS\", selection=df2.tag == 0)\n",
    "sel"
   ]
  },
  {
   "cell_type": "code",
   "execution_count": 14,
   "metadata": {},
   "outputs": [
    {
     "ename": "SyntaxError",
     "evalue": "invalid syntax (<ipython-input-14-a37aebb2d10d>, line 2)",
     "output_type": "error",
     "traceback": [
      "\u001b[0;36m  File \u001b[0;32m\"<ipython-input-14-a37aebb2d10d>\"\u001b[0;36m, line \u001b[0;32m2\u001b[0m\n\u001b[0;31m    df2.plot_widget(df2.'#', df2.MemAccesses, f='log1p', backend='bqplot')\u001b[0m\n\u001b[0m                          ^\u001b[0m\n\u001b[0;31mSyntaxError\u001b[0m\u001b[0;31m:\u001b[0m invalid syntax\n"
     ]
    }
   ],
   "source": [
    "#df2.plot_widget(df2.index, df2.MemAccesses, f='log1p', backend='bqplot')\n",
    "df2.plot_widget(df2.'#', df2.MemAccesses, f='log1p', backend='bqplot')"
   ]
  },
  {
   "cell_type": "code",
   "execution_count": 8,
   "metadata": {},
   "outputs": [
    {
     "data": {
      "application/vnd.jupyter.widget-view+json": {
       "model_id": "470381df382c4b9bb2e8fde5282e5fa1",
       "version_major": 2,
       "version_minor": 0
      },
      "text/plain": [
       "VBox(children=(Figure(axes=[Axis(scale=LinearScale()), Axis(orientation='vertical', scale=LinearScale())], fig…"
      ]
     },
     "metadata": {},
     "output_type": "display_data"
    },
    {
     "name": "stdout",
     "output_type": "stream",
     "text": [
      "CPU times: user 2.98 s, sys: 41.6 ms, total: 3.02 s\n",
      "Wall time: 3.05 s\n"
     ]
    }
   ],
   "source": [
    "%%time\n",
    "fig = plt.figure()\n",
    "plt.scatter(df.index.values, df.mem_addr_int.values, default_size=2)\n",
    "plt.show()"
   ]
  },
  {
   "cell_type": "code",
   "execution_count": 9,
   "metadata": {},
   "outputs": [
    {
     "data": {
      "application/vnd.jupyter.widget-view+json": {
       "model_id": "a99b4d92162942c1a1414df004d28e72",
       "version_major": 2,
       "version_minor": 0
      },
      "text/plain": [
       "VBox(children=(Figure(axes=[Axis(scale=LinearScale()), Axis(orientation='vertical', scale=LinearScale())], fig…"
      ]
     },
     "metadata": {},
     "output_type": "display_data"
    },
    {
     "name": "stdout",
     "output_type": "stream",
     "text": [
      "CPU times: user 3.22 s, sys: 59.9 ms, total: 3.28 s\n",
      "Wall time: 3.31 s\n"
     ]
    }
   ],
   "source": [
    "%%time\n",
    "fig = plt.figure()\n",
    "plt.scatter(df.index.values[700000:-7000], df.mem_addr_int.values[700000:-7000], default_size=2, selection=[df.mem_addr_int>int(4e8)])\n",
    "plt.show()"
   ]
  },
  {
   "cell_type": "code",
   "execution_count": null,
   "metadata": {},
   "outputs": [],
   "source": []
  }
 ],
 "metadata": {
  "kernelspec": {
   "display_name": "Python 3",
   "language": "python",
   "name": "python3"
  },
  "language_info": {
   "codemirror_mode": {
    "name": "ipython",
    "version": 3
   },
   "file_extension": ".py",
   "mimetype": "text/x-python",
   "name": "python",
   "nbconvert_exporter": "python",
   "pygments_lexer": "ipython3",
   "version": "3.7.6"
  }
 },
 "nbformat": 4,
 "nbformat_minor": 4
}
