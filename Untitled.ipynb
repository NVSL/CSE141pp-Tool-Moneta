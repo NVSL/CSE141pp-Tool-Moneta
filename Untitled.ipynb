{
 "cells": [
  {
   "cell_type": "code",
   "execution_count": 3,
   "metadata": {},
   "outputs": [],
   "source": [
    "import vaex\n",
    "import vaex.jupyter\n",
    "import numpy as np\n",
    "#import pylab as plt\n",
    "import bqplot.pyplot as plt\n",
    "import subprocess"
   ]
  },
  {
   "cell_type": "code",
   "execution_count": 4,
   "metadata": {},
   "outputs": [],
   "source": [
    "def run_process(args):\n",
    "    print('='*50)\n",
    "    print(' '.join(args))\n",
    "    print('-'*50)\n",
    "    completed_process = subprocess.run(args,capture_output=True)\n",
    "    assert completed_process.returncode == 0\n",
    "    print(completed_process.stdout.decode('utf-8'))"
   ]
  },
  {
   "cell_type": "code",
   "execution_count": 5,
   "metadata": {},
   "outputs": [
    {
     "name": "stdout",
     "output_type": "stream",
     "text": [
      "==================================================\n",
      "cat test2.cpp\n",
      "--------------------------------------------------\n",
      "#include <bits/stdc++.h>\n",
      "using namespace std;\n",
      "\n",
      "#define SIZE (int)1e2\n",
      "#define SIZE2 (int)1e4\n",
      "int main() {\n",
      "\tvector<int> arr(SIZE);\n",
      "\tfor(int i = 0; i < SIZE; i++) \n",
      "\t\tfor(int j = 0; j < SIZE2; j++) \n",
      "\t\t\tarr[j] = j;\n",
      "\t\n",
      "\treturn 0;\n",
      "}\n",
      "\n",
      "==================================================\n",
      "g++ test2.cpp\n",
      "--------------------------------------------------\n",
      "\n",
      "==================================================\n",
      "/setup/pintool/pin -t /setup/pintool/source/tools/ManualExamples/obj-intel64/pinatrace.so -- ./a.out\n",
      "--------------------------------------------------\n",
      "\n",
      "==================================================\n",
      "wc pinatrace.out\n",
      "--------------------------------------------------\n",
      " 15642591  46927771 516205475 pinatrace.out\n",
      "\n",
      "==================================================\n",
      "CPU times: user 12.6 ms, sys: 19 ms, total: 31.7 ms\n",
      "Wall time: 4min 2s\n"
     ]
    }
   ],
   "source": [
    "%%time\n",
    "\n",
    "FILENAME = 'test.cpp'    \n",
    "\n",
    "run_process(['cat',\n",
    "             FILENAME])\n",
    "\n",
    "run_process(['g++',\n",
    "             FILENAME])\n",
    "    \n",
    "run_process(['/setup/pintool/pin',\n",
    "             '-t', '/setup/pintool/source/tools/ManualExamples/obj-intel64/pinatrace.so',\n",
    "             '--', './a.out'])\n",
    "\n",
    "run_process(['wc',\n",
    "             'pinatrace.out'])\n",
    "\n",
    "print('='*50)"
   ]
  },
  {
   "cell_type": "code",
   "execution_count": 6,
   "metadata": {},
   "outputs": [
    {
     "name": "stdout",
     "output_type": "stream",
     "text": [
      "CPU times: user 3min 26s, sys: 2.43 s, total: 3min 28s\n",
      "Wall time: 3min 44s\n"
     ]
    }
   ],
   "source": [
    "%%time\n",
    "df = vaex.from_csv('pinatrace.out', sep=' ', names=['inst_addr', 'RW', 'mem_addr'], header=None)\n",
    "df.export_hdf5('pinatrace.hdf5')"
   ]
  },
  {
   "cell_type": "code",
   "execution_count": 5,
   "metadata": {},
   "outputs": [
    {
     "name": "stdout",
     "output_type": "stream",
     "text": [
      "CPU times: user 9.77 ms, sys: 0 ns, total: 9.77 ms\n",
      "Wall time: 14.8 ms\n"
     ]
    }
   ],
   "source": [
    "%%time\n",
    "df = vaex.open('pinatrace.hdf5')[:-1]"
   ]
  },
  {
   "cell_type": "code",
   "execution_count": 6,
   "metadata": {},
   "outputs": [
    {
     "name": "stdout",
     "output_type": "stream",
     "text": [
      "# lines: 635644\n"
     ]
    },
    {
     "data": {
      "text/html": [
       "<table>\n",
       "<thead>\n",
       "<tr><th>#                            </th><th>inst_addr      </th><th>RW  </th><th>mem_addr      </th><th style=\"text-align: right;\">  index</th><th style=\"text-align: right;\">  mem_addr_int</th></tr>\n",
       "</thead>\n",
       "<tbody>\n",
       "<tr><td>&lt;i style=&#x27;opacity: 0.6&#x27;&gt;0&lt;/i&gt;</td><td>0x7fee28191093:</td><td>W   </td><td>0x7ffdeeb63fe8</td><td style=\"text-align: right;\">      0</td><td style=\"text-align: right;\">   1.40729e+14</td></tr>\n",
       "<tr><td>&lt;i style=&#x27;opacity: 0.6&#x27;&gt;1&lt;/i&gt;</td><td>0x7fee28191ea0:</td><td>W   </td><td>0x7ffdeeb63fe0</td><td style=\"text-align: right;\">      1</td><td style=\"text-align: right;\">   1.40729e+14</td></tr>\n",
       "<tr><td>&lt;i style=&#x27;opacity: 0.6&#x27;&gt;2&lt;/i&gt;</td><td>0x7fee28191ea4:</td><td>W   </td><td>0x7ffdeeb63fd8</td><td style=\"text-align: right;\">      2</td><td style=\"text-align: right;\">   1.40729e+14</td></tr>\n",
       "<tr><td>&lt;i style=&#x27;opacity: 0.6&#x27;&gt;3&lt;/i&gt;</td><td>0x7fee28191ea6:</td><td>W   </td><td>0x7ffdeeb63fd0</td><td style=\"text-align: right;\">      3</td><td style=\"text-align: right;\">   1.40729e+14</td></tr>\n",
       "<tr><td>&lt;i style=&#x27;opacity: 0.6&#x27;&gt;4&lt;/i&gt;</td><td>0x7fee28191ea8:</td><td>W   </td><td>0x7ffdeeb63fc8</td><td style=\"text-align: right;\">      4</td><td style=\"text-align: right;\">   1.40729e+14</td></tr>\n",
       "<tr><td>&lt;i style=&#x27;opacity: 0.6&#x27;&gt;5&lt;/i&gt;</td><td>0x7fee28191eaa:</td><td>W   </td><td>0x7ffdeeb63fc0</td><td style=\"text-align: right;\">      5</td><td style=\"text-align: right;\">   1.40729e+14</td></tr>\n",
       "<tr><td>&lt;i style=&#x27;opacity: 0.6&#x27;&gt;6&lt;/i&gt;</td><td>0x7fee28191eaf:</td><td>W   </td><td>0x7ffdeeb63fb8</td><td style=\"text-align: right;\">      6</td><td style=\"text-align: right;\">   1.40729e+14</td></tr>\n",
       "<tr><td>&lt;i style=&#x27;opacity: 0.6&#x27;&gt;7&lt;/i&gt;</td><td>0x7fee28191ebf:</td><td>R   </td><td>0x7fee283b7e68</td><td style=\"text-align: right;\">      7</td><td style=\"text-align: right;\">   1.40661e+14</td></tr>\n",
       "<tr><td>&lt;i style=&#x27;opacity: 0.6&#x27;&gt;8&lt;/i&gt;</td><td>0x7fee28191ec6:</td><td>W   </td><td>0x7fee283b7720</td><td style=\"text-align: right;\">      8</td><td style=\"text-align: right;\">   1.40661e+14</td></tr>\n",
       "<tr><td>&lt;i style=&#x27;opacity: 0.6&#x27;&gt;9&lt;/i&gt;</td><td>0x7fee28191ed7:</td><td>R   </td><td>0x7fee283b8000</td><td style=\"text-align: right;\">      9</td><td style=\"text-align: right;\">   1.40661e+14</td></tr>\n",
       "</tbody>\n",
       "</table>"
      ],
      "text/plain": [
       "  #  inst_addr        RW    mem_addr          index    mem_addr_int\n",
       "  0  0x7fee28191093:  W     0x7ffdeeb63fe8        0     1.40729e+14\n",
       "  1  0x7fee28191ea0:  W     0x7ffdeeb63fe0        1     1.40729e+14\n",
       "  2  0x7fee28191ea4:  W     0x7ffdeeb63fd8        2     1.40729e+14\n",
       "  3  0x7fee28191ea6:  W     0x7ffdeeb63fd0        3     1.40729e+14\n",
       "  4  0x7fee28191ea8:  W     0x7ffdeeb63fc8        4     1.40729e+14\n",
       "  5  0x7fee28191eaa:  W     0x7ffdeeb63fc0        5     1.40729e+14\n",
       "  6  0x7fee28191eaf:  W     0x7ffdeeb63fb8        6     1.40729e+14\n",
       "  7  0x7fee28191ebf:  R     0x7fee283b7e68        7     1.40661e+14\n",
       "  8  0x7fee28191ec6:  W     0x7fee283b7720        8     1.40661e+14\n",
       "  9  0x7fee28191ed7:  R     0x7fee283b8000        9     1.40661e+14"
      ]
     },
     "execution_count": 6,
     "metadata": {},
     "output_type": "execute_result"
    }
   ],
   "source": [
    "df['mem_addr_int'] = df.mem_addr.apply(lambda x: int(x,16))\n",
    "print('# lines: %d' % len(df))\n",
    "df.head()"
   ]
  },
  {
   "cell_type": "code",
   "execution_count": 7,
   "metadata": {},
   "outputs": [
    {
     "data": {
      "application/vnd.jupyter.widget-view+json": {
       "model_id": "6a07a908cd7c471390c9623727f02485",
       "version_major": 2,
       "version_minor": 0
      },
      "text/plain": [
       "PlotTemplate(components={'main-widget': VBox(children=(VBox(children=(Figure(axes=[Axis(color='#666', grid_col…"
      ]
     },
     "metadata": {},
     "output_type": "display_data"
    },
    {
     "data": {
      "text/plain": [
       "Plot2dDefault(w=None, what='count(*)', x='index', y='mem_addr_int', z=None)"
      ]
     },
     "metadata": {},
     "output_type": "display_data"
    }
   ],
   "source": [
    "df.plot_widget(df.index, df.mem_addr_int, f='log1p', backend='bqplot')"
   ]
  },
  {
   "cell_type": "code",
   "execution_count": 9,
   "metadata": {},
   "outputs": [
    {
     "data": {
      "application/vnd.jupyter.widget-view+json": {
       "model_id": "1f2c8e0139714d58ad1767cfcf5b95c2",
       "version_major": 2,
       "version_minor": 0
      },
      "text/plain": [
       "VBox(children=(Figure(axes=[Axis(scale=LinearScale()), Axis(orientation='vertical', scale=LinearScale())], fig…"
      ]
     },
     "metadata": {},
     "output_type": "display_data"
    },
    {
     "name": "stdout",
     "output_type": "stream",
     "text": [
      "CPU times: user 42.2 s, sys: 1.64 s, total: 43.8 s\n",
      "Wall time: 47.8 s\n"
     ]
    }
   ],
   "source": [
    "%%time\n",
    "fig = plt.figure()\n",
    "plt.scatter(df.index.values, df.mem_addr_int.values, default_size=2)\n",
    "plt.show()"
   ]
  },
  {
   "cell_type": "code",
   "execution_count": null,
   "metadata": {},
   "outputs": [],
   "source": [
    "%%time\n",
    "fig = plt.figure()\n",
    "plt.scatter(df.index.values[700000:-7000], df.mem_addr_int.values[700000:-7000], default_size=2, selection=[df.mem_addr_int>int(4e8)])\n",
    "plt.show()"
   ]
  },
  {
   "cell_type": "code",
   "execution_count": null,
   "metadata": {},
   "outputs": [],
   "source": []
  }
 ],
 "metadata": {
  "kernelspec": {
   "display_name": "Python 3",
   "language": "python",
   "name": "python3"
  },
  "language_info": {
   "codemirror_mode": {
    "name": "ipython",
    "version": 3
   },
   "file_extension": ".py",
   "mimetype": "text/x-python",
   "name": "python",
   "nbconvert_exporter": "python",
   "pygments_lexer": "ipython3",
   "version": "3.7.6"
  }
 },
 "nbformat": 4,
 "nbformat_minor": 4
}
