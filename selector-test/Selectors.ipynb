{
 "cells": [
  {
   "cell_type": "code",
   "execution_count": 1,
   "metadata": {},
   "outputs": [
    {
     "data": {
      "application/vnd.jupyter.widget-view+json": {
       "model_id": "06a05d7ed794430a8ee30bcf6aaed653",
       "version_major": 2,
       "version_minor": 0
      },
      "text/plain": [
       "Output()"
      ]
     },
     "metadata": {},
     "output_type": "display_data"
    },
    {
     "data": {
      "application/vnd.jupyter.widget-view+json": {
       "model_id": "b68bae2f90b74a8b9184d0375f48de76",
       "version_major": 2,
       "version_minor": 0
      },
      "text/plain": [
       "VBox(children=(Checkbox(value=True, description='DS1', indent=False), Checkbox(value=True, description='DS2', …"
      ]
     },
     "metadata": {},
     "output_type": "display_data"
    }
   ],
   "source": [
    "import ipywidgets as widgets\n",
    "from ipywidgets import Checkbox, VBox\n",
    "import vaex\n",
    "import vaex.jupyter\n",
    "import numpy as np\n",
    "import pylab as plt\n",
    "\n",
    "import warnings\n",
    "warnings.simplefilter(action='ignore', category=FutureWarning)\n",
    "\n",
    "%matplotlib inline\n",
    "\n",
    "df = vaex.from_csv(\"testdata.csv\")\n",
    "\n",
    "tagList = [(df.tag == 0), (df.tag == 1), (df.tag == 2)]\n",
    "selectionList = []\n",
    "\n",
    "val = 2\n",
    "\n",
    "for i in range(len(tagList)):\n",
    "    selectionList.append(tagList[i])\n",
    "\n",
    "def remove(target):\n",
    "    for i in range(len(selectionList)):\n",
    "        if(selectionList[i] is target):\n",
    "            selectionList.pop(i)\n",
    "            break\n",
    "\n",
    "def changeDS1(change):\n",
    "    if(change.name == 'value'):\n",
    "        if(change.new == True):\n",
    "            selectionList.append(tagList[0])\n",
    "        else:\n",
    "            remove(tagList[0])\n",
    "        df.select(True)\n",
    "        \n",
    "    \n",
    "def changeDS2(change):\n",
    "    if(change.name == 'value'):\n",
    "        if(change.new == True):\n",
    "            selectionList.append(tagList[1])\n",
    "        else:\n",
    "            remove(tagList[1])\n",
    "        df.select(True)\n",
    "        \n",
    "def changeDS3(change):\n",
    "    if(change.name == 'value'):\n",
    "        if(change.new == True):\n",
    "            selectionList.append(tagList[2])\n",
    "        else:\n",
    "            remove(tagList[2])\n",
    "        df.select(True)\n",
    "\n",
    "options = ['DS1', 'DS2', 'DS3']\n",
    "items = [Checkbox(description=ds, value=True, disabled=False, indent=False) for ds in options]\n",
    "items[0].observe(changeDS1)\n",
    "items[1].observe(changeDS2)\n",
    "items[2].observe(changeDS3)\n",
    "checks = VBox(items)\n",
    "\n",
    "selection = df.select(True)\n",
    "@vaex.jupyter.interactive_selection(df)\n",
    "def plot(*args, **kwargs):\n",
    "    if(len(selectionList)):\n",
    "        df.plot(df.x, df.y, what=np.log(vaex.stat.count()+1), selection= selectionList)\n",
    "    else:\n",
    "        df.plot(df.x, df.y, what=np.log(vaex.stat.count()+1), selection=[df.x < -1])\n",
    "    plt.show()\n",
    "    \n",
    "display(checks)"
   ]
  },
  {
   "cell_type": "code",
   "execution_count": null,
   "metadata": {},
   "outputs": [],
   "source": []
  }
 ],
 "metadata": {
  "kernelspec": {
   "display_name": "Python 3",
   "language": "python",
   "name": "python3"
  },
  "language_info": {
   "codemirror_mode": {
    "name": "ipython",
    "version": 3
   },
   "file_extension": ".py",
   "mimetype": "text/x-python",
   "name": "python",
   "nbconvert_exporter": "python",
   "pygments_lexer": "ipython3",
   "version": "3.7.6"
  }
 },
 "nbformat": 4,
 "nbformat_minor": 4
}
