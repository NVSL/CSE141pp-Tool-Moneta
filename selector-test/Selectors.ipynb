{
 "cells": [
  {
   "cell_type": "code",
   "execution_count": 19,
   "metadata": {},
   "outputs": [
    {
     "data": {
      "application/vnd.jupyter.widget-view+json": {
       "model_id": "59ec04755b80436f9dff2416c8e71aaf",
       "version_major": 2,
       "version_minor": 0
      },
      "text/plain": [
       "Output()"
      ]
     },
     "metadata": {},
     "output_type": "display_data"
    },
    {
     "data": {
      "application/vnd.jupyter.widget-view+json": {
       "model_id": "45edb161f38b4a0880ffb74caa24963f",
       "version_major": 2,
       "version_minor": 0
      },
      "text/plain": [
       "VBox(children=(Checkbox(value=True, description='Tag 1', indent=False), Checkbox(value=True, description='Data…"
      ]
     },
     "metadata": {},
     "output_type": "display_data"
    }
   ],
   "source": [
    "import ipywidgets as widgets\n",
    "from ipywidgets import Checkbox, VBox\n",
    "import vaex\n",
    "import vaex.jupyter\n",
    "import numpy as np\n",
    "import pylab as plt\n",
    "\n",
    "import warnings\n",
    "warnings.simplefilter(action='ignore', category=FutureWarning)\n",
    "\n",
    "%matplotlib inline\n",
    "\n",
    "df = vaex.from_csv(\"testdata.csv\")\n",
    "\n",
    "\n",
    "namesFromFile = [\"Tag 1\", \"Data Structure 2\", \"Test 3\"]\n",
    "tagsFromFile = [0, 1, 2]\n",
    "numTags = len(namesFromFile)\n",
    "\n",
    "selectionList = [*tagsFromFile]\n",
    "\n",
    "\n",
    "def updateGraph(change):\n",
    "    if(change.name == 'value'):\n",
    "        \n",
    "        name = change.owner.description\n",
    "        tag = tagsFromFile[namesFromFile.index(name)]\n",
    "\n",
    "        if(change.new == True):\n",
    "            selectionList.append(tag)\n",
    "        else:\n",
    "            selectionList.remove(tag)\n",
    "        df.select(True)\n",
    "        \n",
    "\n",
    "items = [Checkbox(description=namesFromFile[i], value=True, disabled=False, indent=False) for i in range(0, numTags)]\n",
    "\n",
    "for i in range(numTags):\n",
    "    items[i].observe(updateGraph)\n",
    "    \n",
    "checks = VBox(items)\n",
    "\n",
    "selection = df.select(True)\n",
    "@vaex.jupyter.interactive_selection(df)\n",
    "def plot(*args, **kwargs):\n",
    "    df.plot(df.x, df.y, what=np.log(vaex.stat.count()+1), selection=[(df.tag == x) for x in selectionList])\n",
    "    plt.show()\n",
    "    \n",
    "display(checks)"
   ]
  },
  {
   "cell_type": "code",
   "execution_count": 3,
   "metadata": {},
   "outputs": [
    {
     "name": "stdout",
     "output_type": "stream",
     "text": [
      "False\n"
     ]
    }
   ],
   "source": []
  },
  {
   "cell_type": "code",
   "execution_count": null,
   "metadata": {},
   "outputs": [],
   "source": []
  }
 ],
 "metadata": {
  "kernelspec": {
   "display_name": "Python 3",
   "language": "python",
   "name": "python3"
  },
  "language_info": {
   "codemirror_mode": {
    "name": "ipython",
    "version": 3
   },
   "file_extension": ".py",
   "mimetype": "text/x-python",
   "name": "python",
   "nbconvert_exporter": "python",
   "pygments_lexer": "ipython3",
   "version": "3.7.6"
  }
 },
 "nbformat": 4,
 "nbformat_minor": 4
}
