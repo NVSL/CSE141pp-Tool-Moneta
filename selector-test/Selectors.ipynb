{
 "cells": [
  {
   "cell_type": "code",
   "execution_count": 25,
   "metadata": {},
   "outputs": [
    {
     "data": {
      "application/vnd.jupyter.widget-view+json": {
       "model_id": "cfd7ac0300e84a8cb6c0f1fe537e4048",
       "version_major": 2,
       "version_minor": 0
      },
      "text/plain": [
       "Output()"
      ]
     },
     "metadata": {},
     "output_type": "display_data"
    },
    {
     "data": {
      "application/vnd.jupyter.widget-view+json": {
       "model_id": "8e1c461ca26a4c9a8461b576989c2cc2",
       "version_major": 2,
       "version_minor": 0
      },
      "text/plain": [
       "VBox(children=(Checkbox(value=True, description='Test 1', indent=False), Checkbox(value=True, description='Dat…"
      ]
     },
     "metadata": {},
     "output_type": "display_data"
    }
   ],
   "source": [
    "import ipywidgets as widgets\n",
    "from ipywidgets import Checkbox, VBox\n",
    "import vaex\n",
    "import vaex.jupyter\n",
    "import numpy as np\n",
    "import pylab as plt\n",
    "\n",
    "import warnings\n",
    "warnings.simplefilter(action='ignore', category=FutureWarning)\n",
    "\n",
    "%matplotlib inline\n",
    "\n",
    "df = vaex.from_csv(\"testdata.csv\")\n",
    "tagFile = vaex.from_csv(\"testtags.csv\")\n",
    "\n",
    "namesFromFile = tagFile.names.values.tolist()\n",
    "tagsFromFile = tagFile.tag.values.tolist()\n",
    "numTags = len(namesFromFile)\n",
    "\n",
    "selectionList = [*tagsFromFile]\n",
    "\n",
    "\n",
    "def updateGraph(change):\n",
    "    if(change.name == 'value'):\n",
    "        \n",
    "        name = change.owner.description\n",
    "        tag = tagsFromFile[namesFromFile.index(name)]\n",
    "\n",
    "        if(change.new == True):\n",
    "            selectionList.append(tag)\n",
    "        else:\n",
    "            selectionList.remove(tag)\n",
    "        df.select(True)\n",
    "        \n",
    "\n",
    "items = [Checkbox(description=namesFromFile[i], value=True, disabled=False, indent=False) for i in range(numTags)]\n",
    "\n",
    "for i in range(numTags):\n",
    "    items[i].observe(updateGraph)\n",
    "    \n",
    "checks = VBox(items)\n",
    "\n",
    "selection = df.select(True)\n",
    "@vaex.jupyter.interactive_selection(df)\n",
    "def plot(*args, **kwargs):\n",
    "    df.plot(df.x, df.y, what=np.log(vaex.stat.count()+1), selection=[(df.tag == x) for x in selectionList])\n",
    "    plt.show()\n",
    "    \n",
    "display(checks)"
   ]
  },
  {
   "cell_type": "code",
   "execution_count": 14,
   "metadata": {},
   "outputs": [
    {
     "data": {
      "text/plain": [
       "array(['Test 1', 'Data Structure 2', 'Another One for 3'], dtype=object)"
      ]
     },
     "execution_count": 14,
     "metadata": {},
     "output_type": "execute_result"
    }
   ],
   "source": [
    "import ipywidgets as widgets\n",
    "from ipywidgets import Checkbox, VBox\n",
    "import vaex\n",
    "import vaex.jupyter\n",
    "import numpy as np\n",
    "import pylab as plt\n",
    "\n",
    "tagFile = vaex.from_csv(\"testtags.csv\")\n",
    "tagFile.names.values"
   ]
  },
  {
   "cell_type": "code",
   "execution_count": null,
   "metadata": {},
   "outputs": [],
   "source": []
  }
 ],
 "metadata": {
  "kernelspec": {
   "display_name": "Python 3",
   "language": "python",
   "name": "python3"
  },
  "language_info": {
   "codemirror_mode": {
    "name": "ipython",
    "version": 3
   },
   "file_extension": ".py",
   "mimetype": "text/x-python",
   "name": "python",
   "nbconvert_exporter": "python",
   "pygments_lexer": "ipython3",
   "version": "3.7.6"
  }
 },
 "nbformat": 4,
 "nbformat_minor": 4
}
