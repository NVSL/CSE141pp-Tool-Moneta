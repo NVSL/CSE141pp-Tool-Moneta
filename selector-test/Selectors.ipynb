{
 "cells": [
  {
   "cell_type": "code",
   "execution_count": 6,
   "metadata": {
    "scrolled": false
   },
   "outputs": [
    {
     "name": "stdout",
     "output_type": "stream",
     "text": [
      "1000000\n"
     ]
    },
    {
     "data": {
      "application/vnd.jupyter.widget-view+json": {
       "model_id": "21bd9baaf13f4783bbc8f3febd867a61",
       "version_major": 2,
       "version_minor": 0
      },
      "text/plain": [
       "PlotTemplate(components={'main-widget': VBox(children=(VBox(children=(Figure(axes=[Axis(color='#666', grid_col…"
      ]
     },
     "metadata": {},
     "output_type": "display_data"
    },
    {
     "data": {
      "application/vnd.jupyter.widget-view+json": {
       "model_id": "b1a72585d71d41058367a54f8be8278f",
       "version_major": 2,
       "version_minor": 0
      },
      "text/plain": [
       "HBox(children=(VBox(children=(Checkbox(value=True, description='Hardcoded Tag 1', indent=False), Checkbox(valu…"
      ]
     },
     "metadata": {},
     "output_type": "display_data"
    }
   ],
   "source": [
    "import ipywidgets as widgets\n",
    "from ipywidgets import Checkbox, VBox, HBox\n",
    "import vaex\n",
    "import vaex.jupyter\n",
    "import numpy as np\n",
    "import pylab as plt\n",
    "\n",
    "import warnings\n",
    "warnings.simplefilter(action='ignore', category=FutureWarning)\n",
    "\n",
    "%matplotlib inline\n",
    "\n",
    "df = vaex.open(\"../hdf5_pinIO/test8/pin_out.h5\")\n",
    "print(df.ADDRESS.count())\n",
    "namesFromFile = [\"Hardcoded Tag 1\", \"2\", \"Three\", \"4444\"]\n",
    "tagsFromFile = np.unique(df.tag.values).tolist()\n",
    "numTags = len(namesFromFile)\n",
    "\n",
    "df['index'] = np.arange(0, df.ADDRESS.count())\n",
    "df.select(True, name='structures')\n",
    "df.select(True, name='rw')\n",
    "df.select(True, name='total')\n",
    "\n",
    "for tag in tagsFromFile:\n",
    "    df.select(df.tag == tag, mode='or')\n",
    "\n",
    "\n",
    "def updateGraph(change):\n",
    "    if(change.name == 'value'):\n",
    "        \n",
    "        name = change.owner.description\n",
    "        tag = tagsFromFile[namesFromFile.index(name)]\n",
    "\n",
    "        if(change.new == True):\n",
    "            df.select(df.tag == tag, mode='or', name='structures')\n",
    "            df.select(\"structures\", mode='replace', name='total')\n",
    "            df.select(\"rw\", mode='and', name='total')\n",
    "        else:\n",
    "            df.select(df.tag == tag, mode='subtract', name='structures')\n",
    "            df.select(\"structures\", mode='replace', name='total')\n",
    "            df.select(\"rw\", mode='and', name='total')\n",
    "    df.select('total')\n",
    "        \n",
    "def updateRead(change):\n",
    "    if(change.name == 'value'):\n",
    "        if(change.new == True):\n",
    "            df.select(df.WRITE == 0, mode='or', name='rw')\n",
    "            df.select(\"structures\", mode='replace', name='total')\n",
    "            df.select(\"rw\", mode='and', name='total')\n",
    "        else:\n",
    "            df.select(df.WRITE == 0, mode='subtract', name='rw')\n",
    "            df.select(\"structures\", mode='replace', name='total')\n",
    "            df.select(\"rw\", mode='and', name='total')\n",
    "    df.select('total')\n",
    "            \n",
    "def updateWrite(change):\n",
    "    if(change.name == 'value'):\n",
    "        if(change.new == True):\n",
    "            df.select(df.WRITE == 1, mode='or', name='rw')\n",
    "            df.select(\"structures\", mode='replace', name='total')\n",
    "            df.select(\"rw\", mode='and', name='total')\n",
    "        else:\n",
    "            df.select(df.WRITE == 1, mode='subtract', name='rw')\n",
    "            df.select(\"structures\", mode='replace', name='total')\n",
    "            df.select(\"rw\", mode='and', name='total')\n",
    "    df.select('total')\n",
    "            \n",
    "tagButtons = [Checkbox(description=namesFromFile[i], value=True, disabled=False, indent=False) for i in range(numTags)]\n",
    "\n",
    "\n",
    "    \n",
    "rwButtons = [Checkbox(description=\"Reads\", value=True, disabled=False, indent=False),\n",
    "             Checkbox(description=\"Writes\", value=True, disabled=False, indent=False)]\n",
    "\n",
    "hitMissButton = [Checkbox(description=\"Hits\", value=True, disabled=False, indent=False),\n",
    "                 Checkbox(description=\"Misses\", value=True, disabled=False, indent=False)]\n",
    "    \n",
    "    \n",
    "for i in range(numTags):\n",
    "    tagButtons[i].observe(updateGraph)\n",
    "    \n",
    "rwButtons[0].observe(updateRead)\n",
    "rwButtons[1].observe(updateWrite)\n",
    "    \n",
    "checks = HBox([VBox(tagButtons), VBox(rwButtons), VBox(hitMissButton)])\n",
    "\n",
    "df.plot_widget(df.index, df.ADDRESS, selection=[True], backend='bqplot', tool_select=True)\n",
    "\n",
    "\n",
    "display(checks)"
   ]
  },
  {
   "cell_type": "code",
   "execution_count": 4,
   "metadata": {},
   "outputs": [
    {
     "data": {
      "text/html": [
       "<table>\n",
       "<thead>\n",
       "<tr><th>#                                  </th><th>ADDRESS  </th><th>WRITE  </th><th>tag  </th></tr>\n",
       "</thead>\n",
       "<tbody>\n",
       "<tr><td>&lt;i style=&#x27;opacity: 0.6&#x27;&gt;0&lt;/i&gt;      </td><td>0        </td><td>0      </td><td>0    </td></tr>\n",
       "<tr><td>&lt;i style=&#x27;opacity: 0.6&#x27;&gt;1&lt;/i&gt;      </td><td>1        </td><td>1      </td><td>1    </td></tr>\n",
       "<tr><td>&lt;i style=&#x27;opacity: 0.6&#x27;&gt;2&lt;/i&gt;      </td><td>2        </td><td>0      </td><td>2    </td></tr>\n",
       "<tr><td>&lt;i style=&#x27;opacity: 0.6&#x27;&gt;3&lt;/i&gt;      </td><td>3        </td><td>1      </td><td>3    </td></tr>\n",
       "<tr><td>&lt;i style=&#x27;opacity: 0.6&#x27;&gt;4&lt;/i&gt;      </td><td>4        </td><td>0      </td><td>0    </td></tr>\n",
       "<tr><td>...                                </td><td>...      </td><td>...    </td><td>...  </td></tr>\n",
       "<tr><td>&lt;i style=&#x27;opacity: 0.6&#x27;&gt;999,995&lt;/i&gt;</td><td>999995   </td><td>1      </td><td>3    </td></tr>\n",
       "<tr><td>&lt;i style=&#x27;opacity: 0.6&#x27;&gt;999,996&lt;/i&gt;</td><td>999996   </td><td>0      </td><td>0    </td></tr>\n",
       "<tr><td>&lt;i style=&#x27;opacity: 0.6&#x27;&gt;999,997&lt;/i&gt;</td><td>999997   </td><td>1      </td><td>1    </td></tr>\n",
       "<tr><td>&lt;i style=&#x27;opacity: 0.6&#x27;&gt;999,998&lt;/i&gt;</td><td>999998   </td><td>0      </td><td>2    </td></tr>\n",
       "<tr><td>&lt;i style=&#x27;opacity: 0.6&#x27;&gt;999,999&lt;/i&gt;</td><td>999999   </td><td>1      </td><td>3    </td></tr>\n",
       "</tbody>\n",
       "</table>"
      ],
      "text/plain": [
       "#        ADDRESS    WRITE    tag\n",
       "0        0          0        0\n",
       "1        1          1        1\n",
       "2        2          0        2\n",
       "3        3          1        3\n",
       "4        4          0        0\n",
       "...      ...        ...      ...\n",
       "999,995  999995     1        3\n",
       "999,996  999996     0        0\n",
       "999,997  999997     1        1\n",
       "999,998  999998     0        2\n",
       "999,999  999999     1        3"
      ]
     },
     "execution_count": 4,
     "metadata": {},
     "output_type": "execute_result"
    }
   ],
   "source": [
    "import ipywidgets as widgets\n",
    "import inspect\n",
    "from ipywidgets import Checkbox, VBox\n",
    "import vaex\n",
    "import vaex.jupyter\n",
    "import numpy as np\n",
    "import pylab as plt\n",
    "\n",
    "\n",
    "\n",
    "df = vaex.open(\"../hdf5_pinIO/test8/pin_out.h5\")\n",
    "df"
   ]
  },
  {
   "cell_type": "code",
   "execution_count": null,
   "metadata": {},
   "outputs": [],
   "source": []
  }
 ],
 "metadata": {
  "kernelspec": {
   "display_name": "Python 3",
   "language": "python",
   "name": "python3"
  },
  "language_info": {
   "codemirror_mode": {
    "name": "ipython",
    "version": 3
   },
   "file_extension": ".py",
   "mimetype": "text/x-python",
   "name": "python",
   "nbconvert_exporter": "python",
   "pygments_lexer": "ipython3",
   "version": "3.7.6"
  }
 },
 "nbformat": 4,
 "nbformat_minor": 4
}
